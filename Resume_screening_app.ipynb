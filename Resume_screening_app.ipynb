{
  "nbformat": 4,
  "nbformat_minor": 0,
  "metadata": {
    "colab": {
      "provenance": [],
      "mount_file_id": "1VzUM1warV3syP0yXek72D_Hm3ZJth2c0",
      "authorship_tag": "ABX9TyPaJ3EmhoK1kqfampN+ju5w",
      "include_colab_link": true
    },
    "kernelspec": {
      "name": "python3",
      "display_name": "Python 3"
    },
    "language_info": {
      "name": "python"
    }
  },
  "cells": [
    {
      "cell_type": "markdown",
      "metadata": {
        "id": "view-in-github",
        "colab_type": "text"
      },
      "source": [
        "<a href=\"https://colab.research.google.com/github/Deepika-R-datanalysis/pystreamlit-resume-categorization/blob/main/Resume_screening_app.ipynb\" target=\"_parent\"><img src=\"https://colab.research.google.com/assets/colab-badge.svg\" alt=\"Open In Colab\"/></a>"
      ]
    },
    {
      "cell_type": "code",
      "execution_count": 1,
      "metadata": {
        "id": "0w_6lOLZUO11"
      },
      "outputs": [],
      "source": [
        "import numpy as np\n",
        "import pandas as pd\n",
        "import matplotlib.pyplot as plt\n",
        "import seaborn as sns"
      ]
    },
    {
      "cell_type": "code",
      "source": [
        "df = pd.read_csv(\"/content/UpdatedResumeDataSet.csv\")"
      ],
      "metadata": {
        "id": "jq733zubU1nM"
      },
      "execution_count": 4,
      "outputs": []
    },
    {
      "cell_type": "markdown",
      "source": [
        "# New Section"
      ],
      "metadata": {
        "id": "FW_998BV12mv"
      }
    },
    {
      "cell_type": "code",
      "source": [
        "df.head(10)"
      ],
      "metadata": {
        "id": "dvpWdkeYU_ue",
        "outputId": "67778d32-aed4-4ae1-a36a-9a4598a541eb",
        "colab": {
          "base_uri": "https://localhost:8080/",
          "height": 363
        }
      },
      "execution_count": null,
      "outputs": [
        {
          "output_type": "execute_result",
          "data": {
            "text/plain": [
              "       Category                                             Resume\n",
              "0  Data Science  Skills * Programming Languages: Python (pandas...\n",
              "1  Data Science  Education Details \\r\\nMay 2013 to May 2017 B.E...\n",
              "2  Data Science  Areas of Interest Deep Learning, Control Syste...\n",
              "3  Data Science  Skills â¢ R â¢ Python â¢ SAP HANA â¢ Table...\n",
              "4  Data Science  Education Details \\r\\n MCA   YMCAUST,  Faridab...\n",
              "5  Data Science  SKILLS C Basics, IOT, Python, MATLAB, Data Sci...\n",
              "6  Data Science  Skills â¢ Python â¢ Tableau â¢ Data Visuali...\n",
              "7  Data Science  Education Details \\r\\n B.Tech   Rayat and Bahr...\n",
              "8  Data Science  Personal Skills â¢ Ability to quickly grasp t...\n",
              "9  Data Science  Expertise â Data and Quantitative Analysis â..."
            ],
            "text/html": [
              "\n",
              "  <div id=\"df-b17e3fe3-e17e-4148-83b9-3eee8a22199a\" class=\"colab-df-container\">\n",
              "    <div>\n",
              "<style scoped>\n",
              "    .dataframe tbody tr th:only-of-type {\n",
              "        vertical-align: middle;\n",
              "    }\n",
              "\n",
              "    .dataframe tbody tr th {\n",
              "        vertical-align: top;\n",
              "    }\n",
              "\n",
              "    .dataframe thead th {\n",
              "        text-align: right;\n",
              "    }\n",
              "</style>\n",
              "<table border=\"1\" class=\"dataframe\">\n",
              "  <thead>\n",
              "    <tr style=\"text-align: right;\">\n",
              "      <th></th>\n",
              "      <th>Category</th>\n",
              "      <th>Resume</th>\n",
              "    </tr>\n",
              "  </thead>\n",
              "  <tbody>\n",
              "    <tr>\n",
              "      <th>0</th>\n",
              "      <td>Data Science</td>\n",
              "      <td>Skills * Programming Languages: Python (pandas...</td>\n",
              "    </tr>\n",
              "    <tr>\n",
              "      <th>1</th>\n",
              "      <td>Data Science</td>\n",
              "      <td>Education Details \\r\\nMay 2013 to May 2017 B.E...</td>\n",
              "    </tr>\n",
              "    <tr>\n",
              "      <th>2</th>\n",
              "      <td>Data Science</td>\n",
              "      <td>Areas of Interest Deep Learning, Control Syste...</td>\n",
              "    </tr>\n",
              "    <tr>\n",
              "      <th>3</th>\n",
              "      <td>Data Science</td>\n",
              "      <td>Skills â¢ R â¢ Python â¢ SAP HANA â¢ Table...</td>\n",
              "    </tr>\n",
              "    <tr>\n",
              "      <th>4</th>\n",
              "      <td>Data Science</td>\n",
              "      <td>Education Details \\r\\n MCA   YMCAUST,  Faridab...</td>\n",
              "    </tr>\n",
              "    <tr>\n",
              "      <th>5</th>\n",
              "      <td>Data Science</td>\n",
              "      <td>SKILLS C Basics, IOT, Python, MATLAB, Data Sci...</td>\n",
              "    </tr>\n",
              "    <tr>\n",
              "      <th>6</th>\n",
              "      <td>Data Science</td>\n",
              "      <td>Skills â¢ Python â¢ Tableau â¢ Data Visuali...</td>\n",
              "    </tr>\n",
              "    <tr>\n",
              "      <th>7</th>\n",
              "      <td>Data Science</td>\n",
              "      <td>Education Details \\r\\n B.Tech   Rayat and Bahr...</td>\n",
              "    </tr>\n",
              "    <tr>\n",
              "      <th>8</th>\n",
              "      <td>Data Science</td>\n",
              "      <td>Personal Skills â¢ Ability to quickly grasp t...</td>\n",
              "    </tr>\n",
              "    <tr>\n",
              "      <th>9</th>\n",
              "      <td>Data Science</td>\n",
              "      <td>Expertise â Data and Quantitative Analysis â...</td>\n",
              "    </tr>\n",
              "  </tbody>\n",
              "</table>\n",
              "</div>\n",
              "    <div class=\"colab-df-buttons\">\n",
              "\n",
              "  <div class=\"colab-df-container\">\n",
              "    <button class=\"colab-df-convert\" onclick=\"convertToInteractive('df-b17e3fe3-e17e-4148-83b9-3eee8a22199a')\"\n",
              "            title=\"Convert this dataframe to an interactive table.\"\n",
              "            style=\"display:none;\">\n",
              "\n",
              "  <svg xmlns=\"http://www.w3.org/2000/svg\" height=\"24px\" viewBox=\"0 -960 960 960\">\n",
              "    <path d=\"M120-120v-720h720v720H120Zm60-500h600v-160H180v160Zm220 220h160v-160H400v160Zm0 220h160v-160H400v160ZM180-400h160v-160H180v160Zm440 0h160v-160H620v160ZM180-180h160v-160H180v160Zm440 0h160v-160H620v160Z\"/>\n",
              "  </svg>\n",
              "    </button>\n",
              "\n",
              "  <style>\n",
              "    .colab-df-container {\n",
              "      display:flex;\n",
              "      gap: 12px;\n",
              "    }\n",
              "\n",
              "    .colab-df-convert {\n",
              "      background-color: #E8F0FE;\n",
              "      border: none;\n",
              "      border-radius: 50%;\n",
              "      cursor: pointer;\n",
              "      display: none;\n",
              "      fill: #1967D2;\n",
              "      height: 32px;\n",
              "      padding: 0 0 0 0;\n",
              "      width: 32px;\n",
              "    }\n",
              "\n",
              "    .colab-df-convert:hover {\n",
              "      background-color: #E2EBFA;\n",
              "      box-shadow: 0px 1px 2px rgba(60, 64, 67, 0.3), 0px 1px 3px 1px rgba(60, 64, 67, 0.15);\n",
              "      fill: #174EA6;\n",
              "    }\n",
              "\n",
              "    .colab-df-buttons div {\n",
              "      margin-bottom: 4px;\n",
              "    }\n",
              "\n",
              "    [theme=dark] .colab-df-convert {\n",
              "      background-color: #3B4455;\n",
              "      fill: #D2E3FC;\n",
              "    }\n",
              "\n",
              "    [theme=dark] .colab-df-convert:hover {\n",
              "      background-color: #434B5C;\n",
              "      box-shadow: 0px 1px 3px 1px rgba(0, 0, 0, 0.15);\n",
              "      filter: drop-shadow(0px 1px 2px rgba(0, 0, 0, 0.3));\n",
              "      fill: #FFFFFF;\n",
              "    }\n",
              "  </style>\n",
              "\n",
              "    <script>\n",
              "      const buttonEl =\n",
              "        document.querySelector('#df-b17e3fe3-e17e-4148-83b9-3eee8a22199a button.colab-df-convert');\n",
              "      buttonEl.style.display =\n",
              "        google.colab.kernel.accessAllowed ? 'block' : 'none';\n",
              "\n",
              "      async function convertToInteractive(key) {\n",
              "        const element = document.querySelector('#df-b17e3fe3-e17e-4148-83b9-3eee8a22199a');\n",
              "        const dataTable =\n",
              "          await google.colab.kernel.invokeFunction('convertToInteractive',\n",
              "                                                    [key], {});\n",
              "        if (!dataTable) return;\n",
              "\n",
              "        const docLinkHtml = 'Like what you see? Visit the ' +\n",
              "          '<a target=\"_blank\" href=https://colab.research.google.com/notebooks/data_table.ipynb>data table notebook</a>'\n",
              "          + ' to learn more about interactive tables.';\n",
              "        element.innerHTML = '';\n",
              "        dataTable['output_type'] = 'display_data';\n",
              "        await google.colab.output.renderOutput(dataTable, element);\n",
              "        const docLink = document.createElement('div');\n",
              "        docLink.innerHTML = docLinkHtml;\n",
              "        element.appendChild(docLink);\n",
              "      }\n",
              "    </script>\n",
              "  </div>\n",
              "\n",
              "\n",
              "<div id=\"df-f264b98c-e419-4a20-b337-3e9aa892e4c1\">\n",
              "  <button class=\"colab-df-quickchart\" onclick=\"quickchart('df-f264b98c-e419-4a20-b337-3e9aa892e4c1')\"\n",
              "            title=\"Suggest charts\"\n",
              "            style=\"display:none;\">\n",
              "\n",
              "<svg xmlns=\"http://www.w3.org/2000/svg\" height=\"24px\"viewBox=\"0 0 24 24\"\n",
              "     width=\"24px\">\n",
              "    <g>\n",
              "        <path d=\"M19 3H5c-1.1 0-2 .9-2 2v14c0 1.1.9 2 2 2h14c1.1 0 2-.9 2-2V5c0-1.1-.9-2-2-2zM9 17H7v-7h2v7zm4 0h-2V7h2v10zm4 0h-2v-4h2v4z\"/>\n",
              "    </g>\n",
              "</svg>\n",
              "  </button>\n",
              "\n",
              "<style>\n",
              "  .colab-df-quickchart {\n",
              "      --bg-color: #E8F0FE;\n",
              "      --fill-color: #1967D2;\n",
              "      --hover-bg-color: #E2EBFA;\n",
              "      --hover-fill-color: #174EA6;\n",
              "      --disabled-fill-color: #AAA;\n",
              "      --disabled-bg-color: #DDD;\n",
              "  }\n",
              "\n",
              "  [theme=dark] .colab-df-quickchart {\n",
              "      --bg-color: #3B4455;\n",
              "      --fill-color: #D2E3FC;\n",
              "      --hover-bg-color: #434B5C;\n",
              "      --hover-fill-color: #FFFFFF;\n",
              "      --disabled-bg-color: #3B4455;\n",
              "      --disabled-fill-color: #666;\n",
              "  }\n",
              "\n",
              "  .colab-df-quickchart {\n",
              "    background-color: var(--bg-color);\n",
              "    border: none;\n",
              "    border-radius: 50%;\n",
              "    cursor: pointer;\n",
              "    display: none;\n",
              "    fill: var(--fill-color);\n",
              "    height: 32px;\n",
              "    padding: 0;\n",
              "    width: 32px;\n",
              "  }\n",
              "\n",
              "  .colab-df-quickchart:hover {\n",
              "    background-color: var(--hover-bg-color);\n",
              "    box-shadow: 0 1px 2px rgba(60, 64, 67, 0.3), 0 1px 3px 1px rgba(60, 64, 67, 0.15);\n",
              "    fill: var(--button-hover-fill-color);\n",
              "  }\n",
              "\n",
              "  .colab-df-quickchart-complete:disabled,\n",
              "  .colab-df-quickchart-complete:disabled:hover {\n",
              "    background-color: var(--disabled-bg-color);\n",
              "    fill: var(--disabled-fill-color);\n",
              "    box-shadow: none;\n",
              "  }\n",
              "\n",
              "  .colab-df-spinner {\n",
              "    border: 2px solid var(--fill-color);\n",
              "    border-color: transparent;\n",
              "    border-bottom-color: var(--fill-color);\n",
              "    animation:\n",
              "      spin 1s steps(1) infinite;\n",
              "  }\n",
              "\n",
              "  @keyframes spin {\n",
              "    0% {\n",
              "      border-color: transparent;\n",
              "      border-bottom-color: var(--fill-color);\n",
              "      border-left-color: var(--fill-color);\n",
              "    }\n",
              "    20% {\n",
              "      border-color: transparent;\n",
              "      border-left-color: var(--fill-color);\n",
              "      border-top-color: var(--fill-color);\n",
              "    }\n",
              "    30% {\n",
              "      border-color: transparent;\n",
              "      border-left-color: var(--fill-color);\n",
              "      border-top-color: var(--fill-color);\n",
              "      border-right-color: var(--fill-color);\n",
              "    }\n",
              "    40% {\n",
              "      border-color: transparent;\n",
              "      border-right-color: var(--fill-color);\n",
              "      border-top-color: var(--fill-color);\n",
              "    }\n",
              "    60% {\n",
              "      border-color: transparent;\n",
              "      border-right-color: var(--fill-color);\n",
              "    }\n",
              "    80% {\n",
              "      border-color: transparent;\n",
              "      border-right-color: var(--fill-color);\n",
              "      border-bottom-color: var(--fill-color);\n",
              "    }\n",
              "    90% {\n",
              "      border-color: transparent;\n",
              "      border-bottom-color: var(--fill-color);\n",
              "    }\n",
              "  }\n",
              "</style>\n",
              "\n",
              "  <script>\n",
              "    async function quickchart(key) {\n",
              "      const quickchartButtonEl =\n",
              "        document.querySelector('#' + key + ' button');\n",
              "      quickchartButtonEl.disabled = true;  // To prevent multiple clicks.\n",
              "      quickchartButtonEl.classList.add('colab-df-spinner');\n",
              "      try {\n",
              "        const charts = await google.colab.kernel.invokeFunction(\n",
              "            'suggestCharts', [key], {});\n",
              "      } catch (error) {\n",
              "        console.error('Error during call to suggestCharts:', error);\n",
              "      }\n",
              "      quickchartButtonEl.classList.remove('colab-df-spinner');\n",
              "      quickchartButtonEl.classList.add('colab-df-quickchart-complete');\n",
              "    }\n",
              "    (() => {\n",
              "      let quickchartButtonEl =\n",
              "        document.querySelector('#df-f264b98c-e419-4a20-b337-3e9aa892e4c1 button');\n",
              "      quickchartButtonEl.style.display =\n",
              "        google.colab.kernel.accessAllowed ? 'block' : 'none';\n",
              "    })();\n",
              "  </script>\n",
              "</div>\n",
              "\n",
              "    </div>\n",
              "  </div>\n"
            ],
            "application/vnd.google.colaboratory.intrinsic+json": {
              "type": "dataframe",
              "variable_name": "df",
              "summary": "{\n  \"name\": \"df\",\n  \"rows\": 962,\n  \"fields\": [\n    {\n      \"column\": \"Category\",\n      \"properties\": {\n        \"dtype\": \"category\",\n        \"num_unique_values\": 25,\n        \"samples\": [\n          \"Civil Engineer\",\n          \"DevOps Engineer\",\n          \"Data Science\"\n        ],\n        \"semantic_type\": \"\",\n        \"description\": \"\"\n      }\n    },\n    {\n      \"column\": \"Resume\",\n      \"properties\": {\n        \"dtype\": \"category\",\n        \"num_unique_values\": 166,\n        \"samples\": [\n          \"KEY COMPETENCIES \\u00e2\\u009c\\u00b6Multi - Operations Management\\u00e2\\u009c\\u00b6People Management \\u00e2\\u009c\\u00b6Customer Services - Emails \\u00e2\\u009c\\u00b6 MIS \\u00e2\\u009c\\u00b6Vendor & Client Services Management\\u00e2\\u009c\\u00b6Cross Functional Coordination\\u00e2\\u009c\\u00b6Banking & Financial Services\\u00e2\\u009c\\u00b6 Transaction Monitoring * ATM Operations \\u00e2\\u009c\\u00b6 & Prepaid Card Operations (Pre-Issuance & Post-Issuance) \\u00e2\\u009c\\u00b6 POS Operations * JOB PROFILE & SKILLS: \\u00e2\\u0080\\u00a2 An effective communicator with excellent relationship building & interpersonal skills. Strong analytical, problem solving & organizational abilities. \\u00e2\\u0080\\u00a2 Extensive experience in managing operations with demonstrated leadership qualities & organisational skills during the tenure. \\u00e2\\u0080\\u00a2 Managing customer centric operations & ensuring customer satisfaction by achieving service quality norms. \\u00e2\\u0080\\u00a2 Analyzing of all operational problems, customer complaints and take preventive and corrective actions to resolve the same. \\u00e2\\u0080\\u00a2 Receive and respond to Key customer inquiries in an effective manner and provide relevant and timely information. \\u00e2\\u0080\\u00a2 Deft in steering banking back-end operations, analyzing risks and managing delinquencies with dexterity across applying techniques for maximizing recoveries and minimizing credit losses. \\u00e2\\u0080\\u00a2 Analyzed & identified training needs of the team members and developing, organizing and conducting training programs and manage bottom quartile team to improve their performance. \\u00e2\\u0080\\u00a2 Preparing and maintaining daily MIS reports to evaluate the performance and efficiency of the process relate to various verticals. \\u00e2\\u0080\\u00a2 Measuring the performance of the processes in terms of efficiency and effectiveness matrix and ensuring adherence to SLA. \\u00e2\\u0080\\u00a2 Major Activities Define processes for Field Services were monitored and necessary checks were executed and controlled. Also measured Vendor SLA by analyzing the TAT of vendors & the Client SLA provided to us. \\u00e2\\u0080\\u00a2 As per company procedures, handling & ensuring vendor's payment issues to be sorted out &payments are processed on quarterly basis. \\u00e2\\u0080\\u00a2 Appropriately plan and execute each skill of operations in accordance with the department's policies and procedures. \\u00e2\\u0080\\u00a2 Manage relationships with business team, software development team and other services to achieve project objectives. Different software Worked till now: - a. CTL prime - Axis Bank Credit Cards b. Insight - For POS Machine technical operations for Amex (MID & TID Generation- ATOS (Venture Infotek) c. Ticket Management System - TATA Communications Private Services Ltd (ATM - NOC Operations) d. Branch Portal (Yalamanchili Software Exports Ltd) - Prepaid Cards (SBI Bank & Zaggle Prepaid Oceans Services Ltd) Zaggle Prepaid Ocean Services Pvt Ltd Oct, 2017 to Till Date Designation: Manager - Operations (Payment Industry - Prepaid Cards - INR) Education Details \\r\\n  Commerce Mumbai, Maharashtra Mumbai University\\r\\nOperations Manager \\r\\n\\r\\nService Manager - Operations (Payment Industry - Prepaid Cards - INR & FTC)\\r\\nSkill Details \\r\\nOPERATIONS- Exprience - 73 months\\r\\nSATISFACTION- Exprience - 48 months\\r\\nTRAINING- Exprience - 24 months\\r\\nNOC- Exprience - 23 months\\r\\nPOINT OF SALE- Exprience - 20 monthsCompany Details \\r\\ncompany - Zaggle Prepaid Ocean Services Pvt Ltd\\r\\ndescription - Card Operations\\r\\ncompany - Yalamanchili Software Exports Ltd\\r\\ndescription - 24*7 Operations Pvt Ltd) Dec 2015 to Feb 2017\\r\\n\\r\\nDesignation: Service Manager - Operations (Payment Industry - Prepaid Cards - INR & FTC)\\r\\n\\r\\nKey Contributions: \\u00e2\\u0080\\u00a2 A result-oriented business professional in planning, executing& managing processes, improving efficiency of operations, team building and detailing process information to determine effective result into operations.\\r\\n\\u00e2\\u0080\\u00a2 Ensuring PINs generation (SLA) is maintained and chargeback cases are raised in perfect timeframe.\\r\\n\\u00e2\\u0080\\u00a2 Managing email customer services properly and ensuring the emails are replied properly. Also, ensuring transaction monitoring is properly managed 24/7.\\r\\n\\u00e2\\u0080\\u00a2 Assisting Bankers (SBI & Associated Banks) for their BCP plans by getting executed in the system with the help of DR-PR plans & vice versa or any other business requirements.\\r\\n\\u00e2\\u0080\\u00a2 Expertise in maintaining highest level of quality in operations; ensuring adherence to all the quality parameters and procedures as per the stringent norms.\\r\\n\\u00e2\\u0080\\u00a2 Lead, manage and supervise the execution of external audit engagements and responsible for presenting the findings & developing a quality reports to the senior Management and Clients.\\r\\n\\u00e2\\u0080\\u00a2 Coach/mentor (20) team members to perform at a higher level by giving opportunities, providing timely continuous feedback and working with staff to improve their communication, time management, decision making, organization, and analytical skills.\\r\\n\\u00e2\\u0080\\u00a2 Providing the solutions and services to the client in their own premises with aforesaid count of team members.\\r\\n\\u00e2\\u0080\\u00a2 Also ensuring end to end process of PR & DR as per client requirements (PR- DR & DR -PR) by interacting with internal & external stakeholders.\\r\\n\\u00e2\\u0080\\u00a2 Determining process gaps and designing & conducting training programs to enhance operational efficiency and retain talent by providing optimum opportunities for personal and professional growth.\\r\\ncompany - Credit Cards\\r\\ndescription - Ensured highest standard of customer satisfaction and quality service; developing new policies and procedures to improve based on customer feedback and resolving customer queries via correspondence, inbound calls & email channels with the strength of (12-16) Team members.\\r\\ncompany - AGS Transact Technologies Limited\\r\\ndescription - Key Contributions: Lead - SPOC to Banks\\r\\ncompany - TATA Communications Payment Solutions Ltd\\r\\ndescription - To make ATMs operational within TAT by analyzing the issue is technical or non-technical and also by interacting with internal & external stakeholders.\\r\\ncompany - Vertex Customer Solutions India Private Ltd\\r\\ndescription - Key Contributions: \\u00e2\\u0080\\u00a2 Build positive working relationship with all team members and clients by keeping Management informed   of KYC document collection & con-current audit progress, responding timely to Management inquiries, understanding the business and conducting self professionally.\\r\\ncompany - Financial Inclusion Network & Operations Limited\\r\\ndescription - Key Contributions: POS-Operations \\u00e2\\u0080\\u00a2 Cascading the adherence of process is strictly followed by team members & training them to reduce the downtime.\\r\\n\\u00e2\\u0080\\u00a2 Managing Stock of EDC Terminals \\u00e2\\u0080\\u00a2 Managing Deployments of terminals through Multiple teams \\u00e2\\u0080\\u00a2 Would have worked with multiple terminal make & model \\u00e2\\u0080\\u00a2 Managing Inward, Outward & QC of applications installed in the POS machines.\\r\\ncompany - Venture Infotek Private Ltd\\r\\ndescription - Key Contributions: POS-Operations\\r\\ncompany - Axis Bank Ltd - Customer Services\\r\\ndescription - Aug 2006 to Oct 2009 (Ma-Foi&I- smart)\\r\\n\\r\\nDesignation: Team Leader/Executive - Emails, Phone Banking & Correspondence Unit (Snail Mails)\",\n          \"Skill Set: Hadoop, Map Reduce, HDFS, Hive, Sqoop, java. Duration: 2016 to 2017. Role: Hadoop Developer Rplus offers an quick, simple and powerful cloud based Solution, Demand Sense to accurately predict demand for your product in all your markets which Combines Enterprise and External Data to predict demand more accurately through Uses Social Conversation and Sentiments to derive demand and Identifies significant drivers of sale out of hordes of factors that Selects the best suited model out of multiple forecasting models for each product. Responsibilities: \\u00e2\\u0080\\u00a2 Involved in deploying the product for customers, gathering requirements and algorithm optimization at backend of the product. \\u00e2\\u0080\\u00a2 Load and transform Large Datasets of structured semi structured. \\u00e2\\u0080\\u00a2 Responsible to manage data coming from different sources and application \\u00e2\\u0080\\u00a2 Supported Map Reduce Programs those are running on the cluster \\u00e2\\u0080\\u00a2 Involved in creating Hive tables, loading with data and writing hive queries which will run internally in map reduce way.Education Details \\r\\n\\r\\nHadoop Developer \\r\\n\\r\\nHadoop Developer - Braindatawire\\r\\nSkill Details \\r\\nAPACHE HADOOP HDFS- Exprience - 49 months\\r\\nAPACHE HADOOP SQOOP- Exprience - 49 months\\r\\nHadoop- Exprience - 49 months\\r\\nHADOOP- Exprience - 49 months\\r\\nHADOOP DISTRIBUTED FILE SYSTEM- Exprience - 49 monthsCompany Details \\r\\ncompany - Braindatawire\\r\\ndescription - Technical Skills:\\r\\n\\u00e2\\u0080\\u00a2   Programming: Core Java, Map Reduce, Scala\\r\\n\\u00e2\\u0080\\u00a2   Hadoop Tools: HDFS, Spark, Map Reduce, Sqoop, Hive, Hbase\\r\\n\\u00e2\\u0080\\u00a2   Database: MySQL, Oracle\\r\\n\\u00e2\\u0080\\u00a2   Scripting: Shell Scripting\\r\\n\\u00e2\\u0080\\u00a2   IDE: Eclipse\\r\\n\\u00e2\\u0080\\u00a2   Operating Systems: Linux (CentOS), Windows\\r\\n\\u00e2\\u0080\\u00a2   Source Control: Git (Github)\",\n          \"IT Skills: Area Exposure Modeling Tool: Bizagi, MS Visio Prototyping Tool: Indigo Studio. Documentation: MS Office (MS Word, MS Excel, MS Power Point) Testing Proficiency: Smoke, Sanity, Integration, Functional, Acceptance and UI Methodology implemented: Waterfall, Agile (Scrum) Database: SQL Testing Tool: HPQC Business Exposure Education Details \\r\\n Bachelor Of Computer Engineering Computer Engineering Mumbai, Maharashtra Thadomal Shahani Engineering college\\r\\n Diploma Computer Engineering Ulhasnagar, Maharashtra Institute of Technology\\r\\n Secondary School Certificate  Ulhasnagar, Maharashtra New English High School\\r\\nSenior Business Analyst - RPA \\r\\n\\r\\nSenior Business Analyst - RPA - Hexaware Technologies\\r\\nSkill Details \\r\\nDOCUMENTATION- Exprience - 47 months\\r\\nTESTING- Exprience - 29 months\\r\\nINTEGRATION- Exprience - 25 months\\r\\nINTEGRATOR- Exprience - 25 months\\r\\nPROTOTYPE- Exprience - 13 monthsCompany Details \\r\\ncompany - Hexaware Technologies\\r\\ndescription - Working as a RPA Business Analyst\\r\\ncompany - BBH- Brown Brothers Harriman & Co\\r\\ndescription - is a private bank that provides commercial banking, investment management, brokerage, and trust services to private companies and individuals. It also performs merger advisory, foreign exchange, custody services, commercial banking, and corporate financing services.\\r\\n\\r\\nResponsibilities: \\u00e2\\u0080\\u00a2 Performed Automation Assessment of various Processes and identified processes which can be candidates of RPA.\\r\\n\\u00e2\\u0080\\u00a2 Conducting Assessment that involves an initial Understanding of the Existing System, their technology, processes, Usage of the tools, Feasibility of tool with automation tool along with automation ROI analysis.\\r\\n\\u00e2\\u0080\\u00a2 Preparing the Automation Potential Sheet which describes the steps in the process, the volume and frequency of the transaction, the AHT taken by SME to perform the process and depending on the steps that could be automated, Automation potential and the manual efforts that will be saved are calculated.\\r\\nCalculating the complexity of the Process which is considered for automation and depending on all these factors Number of Bots and Number of Automation tool Licenses are determined.\\r\\n\\u00e2\\u0080\\u00a2 Implementing a Proof of Concept (POC) to Validate Feasibility by executing the selected critical use cases for conducting a POC which will helps to identify financial and operational benefits and provide recommendations regarding the actual need for complete automation.\\r\\n\\u00e2\\u0080\\u00a2 Gathering business requirements by conducting detailed interviews with business users, stakeholders, and Subject Matter Experts (SME's) \\u00e2\\u0080\\u00a2 Preparing Business Requirement Document and then converted Business requirements into Functional Requirements Specification.\\r\\n \\u00e2\\u0080\\u00a2 Constructing prototype early toward a design acceptable to the customer and feasible.\\r\\n\\u00e2\\u0080\\u00a2 Assisting in designing test plans, test scenarios and test cases for integration, regression, and user acceptance testing (UAT) to improve the overall quality of the Automation.\\r\\n\\u00e2\\u0080\\u00a2 Participating regularly in Walkthroughs and Review meetings with Project Manager, QA Engineers, and Development team.\\r\\n\\u00e2\\u0080\\u00a2 Regularly interacting with offshore and onshore development teams.\\r\\ncompany - FADV - First Advantage\\r\\ndescription - is a criminal background check company that delivers global solutions ranging from employment screenings to background checks.\\r\\nThe following are the processes which were covered:\\r\\nEmail Process, Research Process, Review Process.\\r\\n\\r\\nResponsibilities: \\u00e2\\u0080\\u00a2 Requirement Gathering through conducting Interviews & Brainstorming sessions with stakeholders \\u00e2\\u0080\\u00a2 To develop decision models and execute those rules as per the use case specifications.\\r\\n\\u00e2\\u0080\\u00a2 To Test/validate the decision models against document test data.\\r\\n\\u00e2\\u0080\\u00a2 To maintain and enhance the decision models for changes in regulations as per use case specifications.\\r\\n\\u00e2\\u0080\\u00a2 Responsible for performing the business research that will make a business growth.\\r\\n\\u00e2\\u0080\\u00a2 Developing a clear understanding of existing business functions and processes.\\r\\n\\u00e2\\u0080\\u00a2 Effectively communicate with the onsite clients for the queries, suggestions, and update.\\r\\n\\u00e2\\u0080\\u00a2 Giving suggestions to enhance the current processes.\\r\\n\\u00e2\\u0080\\u00a2 Identifying areas for process improvement.\\r\\n\\u00e2\\u0080\\u00a2 Flagging up potential problems at an early stage.\\r\\n\\u00e2\\u0080\\u00a2 Preparing PowerPoint presentations and documents for business meetings.\\r\\n\\u00e2\\u0080\\u00a2 Using any information gathered to write up detailed reports.\\r\\n\\u00e2\\u0080\\u00a2 Highlighting risks and issues that could impact project delivery.\\r\\n\\u00e2\\u0080\\u00a2 Able to work accurately.\\r\\n\\u00e2\\u0080\\u00a2 To develop and maintain documentation for internal team training and client end user operations.\\r\\n\\u00e2\\u0080\\u00a2 To work efficiently with team members and across teams.\\r\\n\\u00e2\\u0080\\u00a2 To mentor and train junior team members.\\r\\ncompany - Clinical Testing, Lab Work and Diagnostic Testing\\r\\ndescription - IQVIA provides services to its customers this includes: Clinical Testing, Lab Work and Diagnostic Testing under clinical trial. These customers need to pay to IQVIA and aging details and invoices are generated for the same.\\r\\nThe following are the processes which were covered:\\r\\n\\r\\nTracking Payments, Automated Real Time Metrics Reporting (Dashboard), Past Due Notifications, AR Statements, Credit/Rebill.\\r\\nResponsibilities: \\u00e2\\u0080\\u00a2 Conducting meetings with clients and key stakeholders to gather requirements, analyze, finalize and have formal sign-offs from approvers Gather and perform analysis of the business requirements \\u00e2\\u0080\\u00a2 Translating the business requirements into the Business Requirement Document [BRD], Functional Requirement Document [FRD].\\r\\n\\u00e2\\u0080\\u00a2 Facilitating meetings with the appropriate subject matter experts in both business and technology teams \\u00e2\\u0080\\u00a2 Coordinating with business user community for the execution of user acceptance test as well as tracking issues \\u00e2\\u0080\\u00a2 Working, collaborating and coordinating with Offshore and Onsite team members to fulfill the BA responsibilities from project initiation to Post-Implementation \\u00e2\\u0080\\u00a2 Reviewing the test scripts with business users as well as technology team. Execute test scripts with expected results for the System Integration Test (SIT) and User Acceptance Test (UAT) \\u00e2\\u0080\\u00a2 Coordinating and conducting the Production Acceptance Testing (PAT) with the business users \\u00e2\\u0080\\u00a2 Creating flow diagrams, structure charts, and other types of system or process representations \\u00e2\\u0080\\u00a2 Managing changes to requirements and baseline through a change control process \\u00e2\\u0080\\u00a2 Utilizing standard methods, design and testing tools throughout project development life cycle \\u00e2\\u0080\\u00a2 Work closely with the operational functional teams, operations management, and personnel, and various technology teams to facilitate a shared understanding of requirements and priorities across all areas\\r\\ncompany - Eduavenir IT Solution\\r\\ndescription - Project: M.B.M.S\\r\\n\\r\\nM.B.M.S. - is an Inventory management application that allows user to manage inventory details of different warehouses, having different products located at various locations and help extract what goods have been procured, sold or returned by customers. It generates automated invoicesalong withcustomized reports. It also managescustomer complaint and resolution system implementation along with automated MIS on monthly basis.Sales and forecastingis also developed on MIS System and the streamlining of process of warehousing and dispatch along with online proof of delivery management system (POD documentation) is generated.\\r\\n\\r\\nResponsibilities: \\u00e2\\u0080\\u00a2 Participate in requirement gathering discussion with client to understand the flow of business processes \\u00e2\\u0080\\u00a2 Analyze the requirements and determine the core processes, develop Process Documentation and ensure to stay up-to-date in conjunction with on-going changes \\u00e2\\u0080\\u00a2 Participate in process flow analysis and preparing BRD, SRS.\\r\\n\\u00e2\\u0080\\u00a2 Coordinating with developers, designers & operations teams for various nuances of the project, communicate the stakeholder requirements from requirement /enhancement to implementation and finally deliver the same within estimated timeframe.\\r\\n\\u00e2\\u0080\\u00a2 Support UAT by reviewing test cases, manage version control of documents, software builds.\\r\\n\\u00e2\\u0080\\u00a2 Coordinate with the stakeholders for UAT sign off and coordinate internally for production movement till Golive stage of the application.\\r\\n\\u00e2\\u0080\\u00a2 Provide demo and training to internal and end user using PowerPoint presentation.\\r\\n\\u00e2\\u0080\\u00a2 Resolving project functional &technical issues during UAT.\\r\\n\\u00e2\\u0080\\u00a2 Prioritizing the Production bugs and resolving the same within the estimated timeframe.\\r\\n\\u00e2\\u0080\\u00a2 Preparing Project Status Report and Production Bugs Status to all the stakeholders.\\r\\n\\u00e2\\u0080\\u00a2 Promoting and Networking for online trading platform.\\r\\n\\u00e2\\u0080\\u00a2 Designing query sheet for obtaining and comparison of quotes from various vendors.\\r\\n\\u00e2\\u0080\\u00a2 Development of product codes / material codes for inventory management (Master Data Management)\\r\\ncompany - CAPGEMINI Head Office\\r\\ndescription - Type: Mobile and Device Testing.       Duration: January 2014 - August 2014\\r\\n\\r\\nFollet - An application which takes an electronic request from the user for the books he requires from a particular follet store. This detailed information about books that will include the name of the book, its price, the date of the transaction and the parties involved which will then be sent to follet stores. User then create request for one or more books for a given date. This request is then processed further and user gets a mail of the date when he will be provided with that book.\\r\\n\\r\\nResponsibilities: \\u00e2\\u0080\\u00a2 Understanding the needs and business requirements.\\r\\n\\u00e2\\u0080\\u00a2 Preparing BRD, SRS by eliciting all the requirements from the client and SMEs \\u00e2\\u0080\\u00a2 Understanding the dependency of the modules in the system \\u00e2\\u0080\\u00a2 Preparation of test plan for Unit level and Integration level.\\r\\n\\u00e2\\u0080\\u00a2 Preparation and execution of test cases.\\r\\n\\u00e2\\u0080\\u00a2 Defect tracking, Issue Resolution, Risk Monitoring, Status Tracking, Reporting and Follow-up.\\r\\n\\u00e2\\u0080\\u00a2 Preparation of Test Completion report.\\r\\ncompany - CAPGEMINI Head Office\\r\\ndescription - \\r\\ncompany - CAPGEMINI Head Office\\r\\ndescription - Humana is a health care insurance project of U.S. which deals with supplying various medicines to citizens as per the doctor's reference and patient's insurance policy. This application keeps track of all the medicines user has consumed in the past and generates a patient history. A citizen is given a drug only after the doctor's reference so the doctor's information is also linked with the patient's history.\\r\\n\\r\\nResponsibilities: \\u00e2\\u0080\\u00a2 Understanding the requirements and getting clarifications from client.\\r\\n\\u00e2\\u0080\\u00a2 Involved in writing test cases based on test scenarios and execute them.\\r\\n\\u00e2\\u0080\\u00a2 Ensuring Test Coverage using Requirement Traceability Matrix (RTM) \\u00e2\\u0080\\u00a2 Preparation of Test Completion report.\\r\\ncompany - CAPGEMINI Head Office\\r\\ndescription - Testing Trends WQR (World Quality Report) is an application which allows the users to take a survey on different methods and technologies used for testing. Users can choose to answer any type of questions under three different categories. Users have a facility to search, view and export the data to excel. Also, users get daily and weekly reports through email about the new trends in testing implemented around the globe. Testing Trends WQR app is available on Android and IOS platforms.\\r\\n\\r\\nResponsibilities: \\u00e2\\u0080\\u00a2 Understanding the requirements and getting clarifications from client.\\r\\n\\u00e2\\u0080\\u00a2 Writing test cases based on test scenarios and executed them.\\r\\n\\u00e2\\u0080\\u00a2 Performing different types of testing such as Functional, Integration, System, and UAT.\\r\\n\\u00e2\\u0080\\u00a2 Defect resolution and maintenance of the application.\"\n        ],\n        \"semantic_type\": \"\",\n        \"description\": \"\"\n      }\n    }\n  ]\n}"
            }
          },
          "metadata": {},
          "execution_count": 14
        }
      ]
    },
    {
      "cell_type": "code",
      "source": [
        "df.info()\n"
      ],
      "metadata": {
        "colab": {
          "base_uri": "https://localhost:8080/"
        },
        "id": "fmUoLRB57jaq",
        "outputId": "682d96e4-1588-4e51-c41d-184cc19b77f7"
      },
      "execution_count": 5,
      "outputs": [
        {
          "output_type": "stream",
          "name": "stdout",
          "text": [
            "<class 'pandas.core.frame.DataFrame'>\n",
            "RangeIndex: 962 entries, 0 to 961\n",
            "Data columns (total 2 columns):\n",
            " #   Column    Non-Null Count  Dtype \n",
            "---  ------    --------------  ----- \n",
            " 0   Category  962 non-null    object\n",
            " 1   Resume    962 non-null    object\n",
            "dtypes: object(2)\n",
            "memory usage: 15.2+ KB\n"
          ]
        }
      ]
    },
    {
      "cell_type": "code",
      "source": [
        "df.shape\n"
      ],
      "metadata": {
        "id": "UK-mkxJfVPbS",
        "outputId": "8f93b433-1179-45c2-9484-df5f72e6346f",
        "colab": {
          "base_uri": "https://localhost:8080/"
        }
      },
      "execution_count": null,
      "outputs": [
        {
          "output_type": "execute_result",
          "data": {
            "text/plain": [
              "(962, 2)"
            ]
          },
          "metadata": {},
          "execution_count": 15
        }
      ]
    },
    {
      "cell_type": "code",
      "source": [
        "df['Category'].value_counts()"
      ],
      "metadata": {
        "id": "qO2N3lvfVS7T",
        "outputId": "d2dcf8d7-29ec-4a98-a5c1-72d9f5325477",
        "colab": {
          "base_uri": "https://localhost:8080/"
        }
      },
      "execution_count": null,
      "outputs": [
        {
          "output_type": "execute_result",
          "data": {
            "text/plain": [
              "Category\n",
              "Java Developer               84\n",
              "Testing                      70\n",
              "DevOps Engineer              55\n",
              "Python Developer             48\n",
              "Web Designing                45\n",
              "HR                           44\n",
              "Hadoop                       42\n",
              "Blockchain                   40\n",
              "ETL Developer                40\n",
              "Operations Manager           40\n",
              "Data Science                 40\n",
              "Sales                        40\n",
              "Mechanical Engineer          40\n",
              "Arts                         36\n",
              "Database                     33\n",
              "Electrical Engineering       30\n",
              "Health and fitness           30\n",
              "PMO                          30\n",
              "Business Analyst             28\n",
              "DotNet Developer             28\n",
              "Automation Testing           26\n",
              "Network Security Engineer    25\n",
              "SAP Developer                24\n",
              "Civil Engineer               24\n",
              "Advocate                     20\n",
              "Name: count, dtype: int64"
            ]
          },
          "metadata": {},
          "execution_count": 16
        }
      ]
    },
    {
      "cell_type": "code",
      "source": [
        "plt.figure(figsize=(15,5))\n",
        "plt.xticks(rotation=90)\n",
        "sns.countplot(data=df,x=\"Category\",palette=\"Set2\")\n",
        "plt.show()"
      ],
      "metadata": {
        "id": "qBqYIclXV6iT",
        "outputId": "5530b501-3bde-475a-f301-38c5f929cb7b",
        "colab": {
          "base_uri": "https://localhost:8080/",
          "height": 531
        }
      },
      "execution_count": null,
      "outputs": [
        {
          "output_type": "stream",
          "name": "stderr",
          "text": [
            "<ipython-input-17-f9bfa5d44934>:3: FutureWarning: \n",
            "\n",
            "Passing `palette` without assigning `hue` is deprecated and will be removed in v0.14.0. Assign the `x` variable to `hue` and set `legend=False` for the same effect.\n",
            "\n",
            "  sns.countplot(data=df,x=\"Category\",palette=\"Set2\")\n"
          ]
        },
        {
          "output_type": "display_data",
          "data": {
            "text/plain": [
              "<Figure size 1500x500 with 1 Axes>"
            ],
            "image/png": "[encoded data removed]"
          },
          "metadata": {}
        }
      ]
    },
    {
      "cell_type": "code",
      "source": [
        "counts = df['Category'].value_counts()\n",
        "labels = df['Category'].unique()"
      ],
      "metadata": {
        "id": "QeLONY9Sc0YI"
      },
      "execution_count": null,
      "outputs": []
    },
    {
      "cell_type": "code",
      "source": [
        "df['Category'].unique()"
      ],
      "metadata": {
        "id": "NdV3nLpMdjSI",
        "outputId": "0f15bb98-2105-4615-8e1b-f34763d1c714",
        "colab": {
          "base_uri": "https://localhost:8080/"
        }
      },
      "execution_count": null,
      "outputs": [
        {
          "output_type": "execute_result",
          "data": {
            "text/plain": [
              "array(['Data Science', 'HR', 'Advocate', 'Arts', 'Web Designing',\n",
              "       'Mechanical Engineer', 'Sales', 'Health and fitness',\n",
              "       'Civil Engineer', 'Java Developer', 'Business Analyst',\n",
              "       'SAP Developer', 'Automation Testing', 'Electrical Engineering',\n",
              "       'Operations Manager', 'Python Developer', 'DevOps Engineer',\n",
              "       'Network Security Engineer', 'PMO', 'Database', 'Hadoop',\n",
              "       'ETL Developer', 'DotNet Developer', 'Blockchain', 'Testing'],\n",
              "      dtype=object)"
            ]
          },
          "metadata": {},
          "execution_count": 19
        }
      ]
    },
    {
      "cell_type": "code",
      "source": [
        "plt.figure(figsize=(10,8))\n",
        "plt.pie(counts,labels=labels,autopct='%1.1f%%',shadow= True,colors=plt.cm.plasma(np.linspace(0,1,3)))\n",
        "plt.show()"
      ],
      "metadata": {
        "id": "0PdQaEy5dtOx",
        "outputId": "1fcbbcd6-4c34-48b9-858d-7b94ddd1d1b1",
        "colab": {
          "base_uri": "https://localhost:8080/",
          "height": 653
        }
      },
      "execution_count": null,
      "outputs": [
        {
          "output_type": "display_data",
          "data": {
            "text/plain": [
              "<Figure size 1000x800 with 1 Axes>"
            ],
            "image/png": "[encoded data removed]"
          },
          "metadata": {}
        }
      ]
    },
    {
      "cell_type": "code",
      "source": [
        "#exploring resume"
      ],
      "metadata": {
        "id": "UwzS-Yn2fzs6"
      },
      "execution_count": null,
      "outputs": []
    },
    {
      "cell_type": "code",
      "source": [
        "df['Category'][0]"
      ],
      "metadata": {
        "id": "epwWR7cZf1zf",
        "outputId": "f9f10e77-e3a1-4bbc-f224-3816de927d45",
        "colab": {
          "base_uri": "https://localhost:8080/",
          "height": 35
        }
      },
      "execution_count": null,
      "outputs": [
        {
          "output_type": "execute_result",
          "data": {
            "text/plain": [
              "'Data Science'"
            ],
            "application/vnd.google.colaboratory.intrinsic+json": {
              "type": "string"
            }
          },
          "metadata": {},
          "execution_count": 22
        }
      ]
    },
    {
      "cell_type": "code",
      "source": [
        "df['Resume'][1]"
      ],
      "metadata": {
        "id": "fXnognkXf7yQ",
        "outputId": "be08bdb4-e01d-4b47-af53-990716767fc3",
        "colab": {
          "base_uri": "https://localhost:8080/",
          "height": 191
        }
      },
      "execution_count": null,
      "outputs": [
        {
          "output_type": "execute_result",
          "data": {
            "text/plain": [
              "'Education Details \\r\\nMay 2013 to May 2017 B.E   UIT-RGPV\\r\\nData Scientist \\r\\n\\r\\nData Scientist - Matelabs\\r\\nSkill Details \\r\\nPython- Exprience - Less than 1 year months\\r\\nStatsmodels- Exprience - 12 months\\r\\nAWS- Exprience - Less than 1 year months\\r\\nMachine learning- Exprience - Less than 1 year months\\r\\nSklearn- Exprience - Less than 1 year months\\r\\nScipy- Exprience - Less than 1 year months\\r\\nKeras- Exprience - Less than 1 year monthsCompany Details \\r\\ncompany - Matelabs\\r\\ndescription - ML Platform for business professionals, dummies and enthusiasts.\\r\\n60/A Koramangala 5th block,\\r\\nAchievements/Tasks behind sukh sagar, Bengaluru,\\r\\nIndia                               Developed and deployed auto preprocessing steps of machine learning mainly missing value\\r\\ntreatment, outlier detection, encoding, scaling, feature selection and dimensionality reduction.\\r\\nDeployed automated classification and regression model.\\r\\nlinkedin.com/in/aditya-rathore-\\r\\nb4600b146                           Reasearch and deployed the time series forecasting model ARIMA, SARIMAX, Holt-winter and\\r\\nProphet.\\r\\nWorked on meta-feature extracting problem.\\r\\ngithub.com/rathorology\\r\\nImplemented a state of the art research paper on outlier detection for mixed attributes.\\r\\ncompany - Matelabs\\r\\ndescription - '"
            ],
            "application/vnd.google.colaboratory.intrinsic+json": {
              "type": "string"
            }
          },
          "metadata": {},
          "execution_count": 23
        }
      ]
    },
    {
      "cell_type": "code",
      "source": [
        "#cleaning data"
      ],
      "metadata": {
        "id": "uxup9n33iLif"
      },
      "execution_count": null,
      "outputs": []
    },
    {
      "cell_type": "code",
      "source": [
        "import re\n",
        "def cleanResume(txt):\n",
        "  cleantxt=re.sub('http\\S+\\s','',txt)\n",
        "  #cleantxt=re.sub('RT|CC','',cleantxt)\n",
        "  #cleantxt=re.sub('#\\S+\\s+','',cleantxt)\n",
        "  cleantxt=re.sub('@\\S+','',cleantxt)\n",
        "  cleantxt=re.sub('\\r\\n','',cleantxt)\n",
        "  cleantxt=re.sub('[%s]' %re.escape(\"\"\"!\"*#$%&'()\"+.-:;<=>?@[\\]^_'{|}~\"\"\"),'',cleantxt)\n",
        "  cleantxt=re.sub(r'[^\\x00-\\x7f]','',cleantxt)\n",
        "  #cleantxt=re.sub('\\S+','',cleantxt)\n",
        "  return cleantxt"
      ],
      "metadata": {
        "id": "vj6d6pKAiNQc"
      },
      "execution_count": null,
      "outputs": []
    },
    {
      "cell_type": "code",
      "source": [
        "df['Resume']=df['Resume'].apply(lambda x : cleanResume(x))"
      ],
      "metadata": {
        "id": "Qe1SN_mfncSX"
      },
      "execution_count": null,
      "outputs": []
    },
    {
      "cell_type": "code",
      "source": [
        "df['Resume'][0]"
      ],
      "metadata": {
        "id": "mkg75lQioUr3",
        "outputId": "f385af21-f493-463c-8ce7-82cda3a4b9da",
        "colab": {
          "base_uri": "https://localhost:8080/",
          "height": 191
        }
      },
      "execution_count": null,
      "outputs": [
        {
          "output_type": "execute_result",
          "data": {
            "text/plain": [
              "'Skills  Programming Languages Python pandas, numpy, scipy, scikitlearn, matplotlib, Sql, Java, JavaScript/JQuery  Machine learning Regression, SVM, Nave Bayes, KNN, Random Forest, Decision Trees, Boosting techniques, Cluster Analysis, Word Embedding, Sentiment Analysis, Natural Language processing, Dimensionality reduction, Topic Modelling LDA, NMF, PCA  Neural Nets  Database Visualizations Mysql, SqlServer, Cassandra, Hbase, ElasticSearch D3js, DCjs, Plotly, kibana, matplotlib, ggplot, Tableau  Others Regular Expression, HTML, CSS, Angular 6, Logstash, Kafka, Python Flask, Git, Docker, computer vision  Open CV and understanding of Deep learningEducation Details Data Science Assurance Associate Data Science Assurance Associate  Ernst  Young LLPSkill Details JAVASCRIPT Exprience  24 monthsjQuery Exprience  24 monthsPython Exprience  24 monthsCompany Details company  Ernst  Young LLPdescription  Fraud Investigations and Dispute Services   AssuranceTECHNOLOGY ASSISTED REVIEWTAR Technology Assisted Review assists in accelerating the review process and run analytics and generate reports Core member of a team helped in developing automated review platform tool from scratch for assisting E discovery domain, this tool implements predictive coding and topic modelling by automating reviews, resulting in reduced labor costs and time spent during the lawyers review Understand the end to end flow of the solution, doing research and development for classification models, predictive analysis and mining of the information present in text data Worked on analyzing the outputs and precision monitoring for the entire tool TAR assists in predictive coding, topic modelling from the evidence by following EY standards Developed the classifier models in order to identify red flags and fraudrelated issuesTools  Technologies Python, scikitlearn, tfidf, word2vec, doc2vec, cosine similarity, Nave Bayes, LDA, NMF for topic modelling, Vader and text blob for sentiment analysis Matplot lib, Tableau dashboard for reportingMULTIPLE DATA SCIENCE AND ANALYTIC PROJECTS USA CLIENTSTEXT ANALYTICS  MOTOR VEHICLE CUSTOMER REVIEW DATA  Received customer feedback survey data for past one year Performed sentiment Positive, Negative  Neutral and time series analysis on customer comments across all 4 categories Created heat map of terms by survey category based on frequency of words  Extracted Positive and Negative words across all the Survey categories and plotted Word cloud Created customized tableau dashboards for effective reporting and visualizationsCHATBOT  Developed a user friendly chatbot for one of our Products which handle simple questions about hours of operation, reservation options and so on This chat bot serves entire product related questions Giving overview of tool via QA platform and also give recommendation responses so that user question to build chain of relevant answer This too has intelligence to build the pipeline of questions as per user requirement and asks the relevant /recommended questionsTools  Technologies Python, Natural language processing, NLTK, spacy, topic modelling, Sentiment analysis, Word Embedding, scikitlearn, JavaScript/JQuery, SqlServerINFORMATION GOVERNANCEOrganizations to make informed decisions about all of the information they store The integrated Information Governance portfolio synthesizes intelligence across unstructured data sources and facilitates action to ensure organizations are best positioned to counter information risk Scan data from multiple sources of formats and parse different file formats, extract Meta data information, push results for indexing elastic search and created customized, interactive dashboards using kibana Preforming ROT Analysis on the data which give information of data which helps identify content that is either Redundant, Outdated, or Trivial Preforming fulltext search analysis on elastic search with predefined methods which can tag as PII personally identifiable information social security numbers, addresses, names, etc which frequently targeted during cyberattacksTools  Technologies Python, Flask, Elastic Search, KibanaFRAUD ANALYTIC PLATFORMFraud Analytics and investigative platform to review all red flag cases FAP is a Fraud Analytics and investigative platform with inbuilt case manager and suite of Analytics for various ERP systems It can be used by clients to interrogate their Accounting systems for identifying the anomalies which can be indicators of fraud by running advanced analyticsTools  Technologies HTML, JavaScript, SqlServer, JQuery, CSS, Bootstrap, Nodejs, D3js, DCjs'"
            ],
            "application/vnd.google.colaboratory.intrinsic+json": {
              "type": "string"
            }
          },
          "metadata": {},
          "execution_count": 27
        }
      ]
    },
    {
      "cell_type": "code",
      "source": [
        "df"
      ],
      "metadata": {
        "colab": {
          "base_uri": "https://localhost:8080/",
          "height": 423
        },
        "id": "2xiELeuls37-",
        "outputId": "0129afbd-896f-45d8-8639-382b8a037e0f"
      },
      "execution_count": null,
      "outputs": [
        {
          "output_type": "execute_result",
          "data": {
            "text/plain": [
              "         Category                                             Resume\n",
              "0    Data Science  Skills  Programming Languages Python pandas, n...\n",
              "1    Data Science  Education Details May 2013 to May 2017 BE   UI...\n",
              "2    Data Science  Areas of Interest Deep Learning, Control Syste...\n",
              "3    Data Science  Skills  R  Python  SAP HANA  Tableau  SAP HANA...\n",
              "4    Data Science  Education Details  MCA   YMCAUST,  Faridabad, ...\n",
              "..            ...                                                ...\n",
              "957       Testing  Computer Skills  Proficient in MS office Word,...\n",
              "958       Testing   Willingness to accept the challenges  Positiv...\n",
              "959       Testing  PERSONAL SKILLS  Quick learner,  Eagerness to ...\n",
              "960       Testing  COMPUTER SKILLS  SOFTWARE KNOWLEDGE MSPower Po...\n",
              "961       Testing  Skill Set OS Windows XP/7/8/81/10 Database MYS...\n",
              "\n",
              "[962 rows x 2 columns]"
            ],
            "text/html": [
              "\n",
              "  <div id=\"df-3072eeb3-3ae0-4a86-a88e-3585180f10ee\" class=\"colab-df-container\">\n",
              "    <div>\n",
              "<style scoped>\n",
              "    .dataframe tbody tr th:only-of-type {\n",
              "        vertical-align: middle;\n",
              "    }\n",
              "\n",
              "    .dataframe tbody tr th {\n",
              "        vertical-align: top;\n",
              "    }\n",
              "\n",
              "    .dataframe thead th {\n",
              "        text-align: right;\n",
              "    }\n",
              "</style>\n",
              "<table border=\"1\" class=\"dataframe\">\n",
              "  <thead>\n",
              "    <tr style=\"text-align: right;\">\n",
              "      <th></th>\n",
              "      <th>Category</th>\n",
              "      <th>Resume</th>\n",
              "    </tr>\n",
              "  </thead>\n",
              "  <tbody>\n",
              "    <tr>\n",
              "      <th>0</th>\n",
              "      <td>Data Science</td>\n",
              "      <td>Skills  Programming Languages Python pandas, n...</td>\n",
              "    </tr>\n",
              "    <tr>\n",
              "      <th>1</th>\n",
              "      <td>Data Science</td>\n",
              "      <td>Education Details May 2013 to May 2017 BE   UI...</td>\n",
              "    </tr>\n",
              "    <tr>\n",
              "      <th>2</th>\n",
              "      <td>Data Science</td>\n",
              "      <td>Areas of Interest Deep Learning, Control Syste...</td>\n",
              "    </tr>\n",
              "    <tr>\n",
              "      <th>3</th>\n",
              "      <td>Data Science</td>\n",
              "      <td>Skills  R  Python  SAP HANA  Tableau  SAP HANA...</td>\n",
              "    </tr>\n",
              "    <tr>\n",
              "      <th>4</th>\n",
              "      <td>Data Science</td>\n",
              "      <td>Education Details  MCA   YMCAUST,  Faridabad, ...</td>\n",
              "    </tr>\n",
              "    <tr>\n",
              "      <th>...</th>\n",
              "      <td>...</td>\n",
              "      <td>...</td>\n",
              "    </tr>\n",
              "    <tr>\n",
              "      <th>957</th>\n",
              "      <td>Testing</td>\n",
              "      <td>Computer Skills  Proficient in MS office Word,...</td>\n",
              "    </tr>\n",
              "    <tr>\n",
              "      <th>958</th>\n",
              "      <td>Testing</td>\n",
              "      <td>Willingness to accept the challenges  Positiv...</td>\n",
              "    </tr>\n",
              "    <tr>\n",
              "      <th>959</th>\n",
              "      <td>Testing</td>\n",
              "      <td>PERSONAL SKILLS  Quick learner,  Eagerness to ...</td>\n",
              "    </tr>\n",
              "    <tr>\n",
              "      <th>960</th>\n",
              "      <td>Testing</td>\n",
              "      <td>COMPUTER SKILLS  SOFTWARE KNOWLEDGE MSPower Po...</td>\n",
              "    </tr>\n",
              "    <tr>\n",
              "      <th>961</th>\n",
              "      <td>Testing</td>\n",
              "      <td>Skill Set OS Windows XP/7/8/81/10 Database MYS...</td>\n",
              "    </tr>\n",
              "  </tbody>\n",
              "</table>\n",
              "<p>962 rows × 2 columns</p>\n",
              "</div>\n",
              "    <div class=\"colab-df-buttons\">\n",
              "\n",
              "  <div class=\"colab-df-container\">\n",
              "    <button class=\"colab-df-convert\" onclick=\"convertToInteractive('df-3072eeb3-3ae0-4a86-a88e-3585180f10ee')\"\n",
              "            title=\"Convert this dataframe to an interactive table.\"\n",
              "            style=\"display:none;\">\n",
              "\n",
              "  <svg xmlns=\"http://www.w3.org/2000/svg\" height=\"24px\" viewBox=\"0 -960 960 960\">\n",
              "    <path d=\"M120-120v-720h720v720H120Zm60-500h600v-160H180v160Zm220 220h160v-160H400v160Zm0 220h160v-160H400v160ZM180-400h160v-160H180v160Zm440 0h160v-160H620v160ZM180-180h160v-160H180v160Zm440 0h160v-160H620v160Z\"/>\n",
              "  </svg>\n",
              "    </button>\n",
              "\n",
              "  <style>\n",
              "    .colab-df-container {\n",
              "      display:flex;\n",
              "      gap: 12px;\n",
              "    }\n",
              "\n",
              "    .colab-df-convert {\n",
              "      background-color: #E8F0FE;\n",
              "      border: none;\n",
              "      border-radius: 50%;\n",
              "      cursor: pointer;\n",
              "      display: none;\n",
              "      fill: #1967D2;\n",
              "      height: 32px;\n",
              "      padding: 0 0 0 0;\n",
              "      width: 32px;\n",
              "    }\n",
              "\n",
              "    .colab-df-convert:hover {\n",
              "      background-color: #E2EBFA;\n",
              "      box-shadow: 0px 1px 2px rgba(60, 64, 67, 0.3), 0px 1px 3px 1px rgba(60, 64, 67, 0.15);\n",
              "      fill: #174EA6;\n",
              "    }\n",
              "\n",
              "    .colab-df-buttons div {\n",
              "      margin-bottom: 4px;\n",
              "    }\n",
              "\n",
              "    [theme=dark] .colab-df-convert {\n",
              "      background-color: #3B4455;\n",
              "      fill: #D2E3FC;\n",
              "    }\n",
              "\n",
              "    [theme=dark] .colab-df-convert:hover {\n",
              "      background-color: #434B5C;\n",
              "      box-shadow: 0px 1px 3px 1px rgba(0, 0, 0, 0.15);\n",
              "      filter: drop-shadow(0px 1px 2px rgba(0, 0, 0, 0.3));\n",
              "      fill: #FFFFFF;\n",
              "    }\n",
              "  </style>\n",
              "\n",
              "    <script>\n",
              "      const buttonEl =\n",
              "        document.querySelector('#df-3072eeb3-3ae0-4a86-a88e-3585180f10ee button.colab-df-convert');\n",
              "      buttonEl.style.display =\n",
              "        google.colab.kernel.accessAllowed ? 'block' : 'none';\n",
              "\n",
              "      async function convertToInteractive(key) {\n",
              "        const element = document.querySelector('#df-3072eeb3-3ae0-4a86-a88e-3585180f10ee');\n",
              "        const dataTable =\n",
              "          await google.colab.kernel.invokeFunction('convertToInteractive',\n",
              "                                                    [key], {});\n",
              "        if (!dataTable) return;\n",
              "\n",
              "        const docLinkHtml = 'Like what you see? Visit the ' +\n",
              "          '<a target=\"_blank\" href=https://colab.research.google.com/notebooks/data_table.ipynb>data table notebook</a>'\n",
              "          + ' to learn more about interactive tables.';\n",
              "        element.innerHTML = '';\n",
              "        dataTable['output_type'] = 'display_data';\n",
              "        await google.colab.output.renderOutput(dataTable, element);\n",
              "        const docLink = document.createElement('div');\n",
              "        docLink.innerHTML = docLinkHtml;\n",
              "        element.appendChild(docLink);\n",
              "      }\n",
              "    </script>\n",
              "  </div>\n",
              "\n",
              "\n",
              "<div id=\"df-48e84700-0ca4-4199-85fd-bd1c81b06507\">\n",
              "  <button class=\"colab-df-quickchart\" onclick=\"quickchart('df-48e84700-0ca4-4199-85fd-bd1c81b06507')\"\n",
              "            title=\"Suggest charts\"\n",
              "            style=\"display:none;\">\n",
              "\n",
              "<svg xmlns=\"http://www.w3.org/2000/svg\" height=\"24px\"viewBox=\"0 0 24 24\"\n",
              "     width=\"24px\">\n",
              "    <g>\n",
              "        <path d=\"M19 3H5c-1.1 0-2 .9-2 2v14c0 1.1.9 2 2 2h14c1.1 0 2-.9 2-2V5c0-1.1-.9-2-2-2zM9 17H7v-7h2v7zm4 0h-2V7h2v10zm4 0h-2v-4h2v4z\"/>\n",
              "    </g>\n",
              "</svg>\n",
              "  </button>\n",
              "\n",
              "<style>\n",
              "  .colab-df-quickchart {\n",
              "      --bg-color: #E8F0FE;\n",
              "      --fill-color: #1967D2;\n",
              "      --hover-bg-color: #E2EBFA;\n",
              "      --hover-fill-color: #174EA6;\n",
              "      --disabled-fill-color: #AAA;\n",
              "      --disabled-bg-color: #DDD;\n",
              "  }\n",
              "\n",
              "  [theme=dark] .colab-df-quickchart {\n",
              "      --bg-color: #3B4455;\n",
              "      --fill-color: #D2E3FC;\n",
              "      --hover-bg-color: #434B5C;\n",
              "      --hover-fill-color: #FFFFFF;\n",
              "      --disabled-bg-color: #3B4455;\n",
              "      --disabled-fill-color: #666;\n",
              "  }\n",
              "\n",
              "  .colab-df-quickchart {\n",
              "    background-color: var(--bg-color);\n",
              "    border: none;\n",
              "    border-radius: 50%;\n",
              "    cursor: pointer;\n",
              "    display: none;\n",
              "    fill: var(--fill-color);\n",
              "    height: 32px;\n",
              "    padding: 0;\n",
              "    width: 32px;\n",
              "  }\n",
              "\n",
              "  .colab-df-quickchart:hover {\n",
              "    background-color: var(--hover-bg-color);\n",
              "    box-shadow: 0 1px 2px rgba(60, 64, 67, 0.3), 0 1px 3px 1px rgba(60, 64, 67, 0.15);\n",
              "    fill: var(--button-hover-fill-color);\n",
              "  }\n",
              "\n",
              "  .colab-df-quickchart-complete:disabled,\n",
              "  .colab-df-quickchart-complete:disabled:hover {\n",
              "    background-color: var(--disabled-bg-color);\n",
              "    fill: var(--disabled-fill-color);\n",
              "    box-shadow: none;\n",
              "  }\n",
              "\n",
              "  .colab-df-spinner {\n",
              "    border: 2px solid var(--fill-color);\n",
              "    border-color: transparent;\n",
              "    border-bottom-color: var(--fill-color);\n",
              "    animation:\n",
              "      spin 1s steps(1) infinite;\n",
              "  }\n",
              "\n",
              "  @keyframes spin {\n",
              "    0% {\n",
              "      border-color: transparent;\n",
              "      border-bottom-color: var(--fill-color);\n",
              "      border-left-color: var(--fill-color);\n",
              "    }\n",
              "    20% {\n",
              "      border-color: transparent;\n",
              "      border-left-color: var(--fill-color);\n",
              "      border-top-color: var(--fill-color);\n",
              "    }\n",
              "    30% {\n",
              "      border-color: transparent;\n",
              "      border-left-color: var(--fill-color);\n",
              "      border-top-color: var(--fill-color);\n",
              "      border-right-color: var(--fill-color);\n",
              "    }\n",
              "    40% {\n",
              "      border-color: transparent;\n",
              "      border-right-color: var(--fill-color);\n",
              "      border-top-color: var(--fill-color);\n",
              "    }\n",
              "    60% {\n",
              "      border-color: transparent;\n",
              "      border-right-color: var(--fill-color);\n",
              "    }\n",
              "    80% {\n",
              "      border-color: transparent;\n",
              "      border-right-color: var(--fill-color);\n",
              "      border-bottom-color: var(--fill-color);\n",
              "    }\n",
              "    90% {\n",
              "      border-color: transparent;\n",
              "      border-bottom-color: var(--fill-color);\n",
              "    }\n",
              "  }\n",
              "</style>\n",
              "\n",
              "  <script>\n",
              "    async function quickchart(key) {\n",
              "      const quickchartButtonEl =\n",
              "        document.querySelector('#' + key + ' button');\n",
              "      quickchartButtonEl.disabled = true;  // To prevent multiple clicks.\n",
              "      quickchartButtonEl.classList.add('colab-df-spinner');\n",
              "      try {\n",
              "        const charts = await google.colab.kernel.invokeFunction(\n",
              "            'suggestCharts', [key], {});\n",
              "      } catch (error) {\n",
              "        console.error('Error during call to suggestCharts:', error);\n",
              "      }\n",
              "      quickchartButtonEl.classList.remove('colab-df-spinner');\n",
              "      quickchartButtonEl.classList.add('colab-df-quickchart-complete');\n",
              "    }\n",
              "    (() => {\n",
              "      let quickchartButtonEl =\n",
              "        document.querySelector('#df-48e84700-0ca4-4199-85fd-bd1c81b06507 button');\n",
              "      quickchartButtonEl.style.display =\n",
              "        google.colab.kernel.accessAllowed ? 'block' : 'none';\n",
              "    })();\n",
              "  </script>\n",
              "</div>\n",
              "\n",
              "  <div id=\"id_996cd0e5-9db5-46d0-bba8-cce19173a51c\">\n",
              "    <style>\n",
              "      .colab-df-generate {\n",
              "        background-color: #E8F0FE;\n",
              "        border: none;\n",
              "        border-radius: 50%;\n",
              "        cursor: pointer;\n",
              "        display: none;\n",
              "        fill: #1967D2;\n",
              "        height: 32px;\n",
              "        padding: 0 0 0 0;\n",
              "        width: 32px;\n",
              "      }\n",
              "\n",
              "      .colab-df-generate:hover {\n",
              "        background-color: #E2EBFA;\n",
              "        box-shadow: 0px 1px 2px rgba(60, 64, 67, 0.3), 0px 1px 3px 1px rgba(60, 64, 67, 0.15);\n",
              "        fill: #174EA6;\n",
              "      }\n",
              "\n",
              "      [theme=dark] .colab-df-generate {\n",
              "        background-color: #3B4455;\n",
              "        fill: #D2E3FC;\n",
              "      }\n",
              "\n",
              "      [theme=dark] .colab-df-generate:hover {\n",
              "        background-color: #434B5C;\n",
              "        box-shadow: 0px 1px 3px 1px rgba(0, 0, 0, 0.15);\n",
              "        filter: drop-shadow(0px 1px 2px rgba(0, 0, 0, 0.3));\n",
              "        fill: #FFFFFF;\n",
              "      }\n",
              "    </style>\n",
              "    <button class=\"colab-df-generate\" onclick=\"generateWithVariable('df')\"\n",
              "            title=\"Generate code using this dataframe.\"\n",
              "            style=\"display:none;\">\n",
              "\n",
              "  <svg xmlns=\"http://www.w3.org/2000/svg\" height=\"24px\"viewBox=\"0 0 24 24\"\n",
              "       width=\"24px\">\n",
              "    <path d=\"M7,19H8.4L18.45,9,17,7.55,7,17.6ZM5,21V16.75L18.45,3.32a2,2,0,0,1,2.83,0l1.4,1.43a1.91,1.91,0,0,1,.58,1.4,1.91,1.91,0,0,1-.58,1.4L9.25,21ZM18.45,9,17,7.55Zm-12,3A5.31,5.31,0,0,0,4.9,8.1,5.31,5.31,0,0,0,1,6.5,5.31,5.31,0,0,0,4.9,4.9,5.31,5.31,0,0,0,6.5,1,5.31,5.31,0,0,0,8.1,4.9,5.31,5.31,0,0,0,12,6.5,5.46,5.46,0,0,0,6.5,12Z\"/>\n",
              "  </svg>\n",
              "    </button>\n",
              "    <script>\n",
              "      (() => {\n",
              "      const buttonEl =\n",
              "        document.querySelector('#id_996cd0e5-9db5-46d0-bba8-cce19173a51c button.colab-df-generate');\n",
              "      buttonEl.style.display =\n",
              "        google.colab.kernel.accessAllowed ? 'block' : 'none';\n",
              "\n",
              "      buttonEl.onclick = () => {\n",
              "        google.colab.notebook.generateWithVariable('df');\n",
              "      }\n",
              "      })();\n",
              "    </script>\n",
              "  </div>\n",
              "\n",
              "    </div>\n",
              "  </div>\n"
            ],
            "application/vnd.google.colaboratory.intrinsic+json": {
              "type": "dataframe",
              "variable_name": "df",
              "summary": "{\n  \"name\": \"df\",\n  \"rows\": 962,\n  \"fields\": [\n    {\n      \"column\": \"Category\",\n      \"properties\": {\n        \"dtype\": \"category\",\n        \"num_unique_values\": 25,\n        \"samples\": [\n          \"Civil Engineer\",\n          \"DevOps Engineer\",\n          \"Data Science\"\n        ],\n        \"semantic_type\": \"\",\n        \"description\": \"\"\n      }\n    },\n    {\n      \"column\": \"Resume\",\n      \"properties\": {\n        \"dtype\": \"category\",\n        \"num_unique_values\": 166,\n        \"samples\": [\n          \"KEY COMPETENCIES Multi  Operations ManagementPeople Management Customer Services  Emails  MIS Vendor  Client Services ManagementCross Functional CoordinationBanking  Financial Services Transaction Monitoring  ATM Operations   Prepaid Card Operations PreIssuance  PostIssuance  POS Operations  JOB PROFILE  SKILLS  An effective communicator with excellent relationship building  interpersonal skills Strong analytical, problem solving  organizational abilities  Extensive experience in managing operations with demonstrated leadership qualities  organisational skills during the tenure  Managing customer centric operations  ensuring customer satisfaction by achieving service quality norms  Analyzing of all operational problems, customer complaints and take preventive and corrective actions to resolve the same  Receive and respond to Key customer inquiries in an effective manner and provide relevant and timely information  Deft in steering banking backend operations, analyzing risks and managing delinquencies with dexterity across applying techniques for maximizing recoveries and minimizing credit losses  Analyzed  identified training needs of the team members and developing, organizing and conducting training programs and manage bottom quartile team to improve their performance  Preparing and maintaining daily MIS reports to evaluate the performance and efficiency of the process relate to various verticals  Measuring the performance of the processes in terms of efficiency and effectiveness matrix and ensuring adherence to SLA  Major Activities Define processes for Field Services were monitored and necessary checks were executed and controlled Also measured Vendor SLA by analyzing the TAT of vendors  the Client SLA provided to us  As per company procedures, handling  ensuring vendors payment issues to be sorted out payments are processed on quarterly basis  Appropriately plan and execute each skill of operations in accordance with the departments policies and procedures  Manage relationships with business team, software development team and other services to achieve project objectives Different software Worked till now  a CTL prime  Axis Bank Credit Cards b Insight  For POS Machine technical operations for Amex MID  TID Generation ATOS Venture Infotek c Ticket Management System  TATA Communications Private Services Ltd ATM  NOC Operations d Branch Portal Yalamanchili Software Exports Ltd  Prepaid Cards SBI Bank  Zaggle Prepaid Oceans Services Ltd Zaggle Prepaid Ocean Services Pvt Ltd Oct, 2017 to Till Date Designation Manager  Operations Payment Industry  Prepaid Cards  INR Education Details   Commerce Mumbai, Maharashtra Mumbai UniversityOperations Manager Service Manager  Operations Payment Industry  Prepaid Cards  INR  FTCSkill Details OPERATIONS Exprience  73 monthsSATISFACTION Exprience  48 monthsTRAINING Exprience  24 monthsNOC Exprience  23 monthsPOINT OF SALE Exprience  20 monthsCompany Details company  Zaggle Prepaid Ocean Services Pvt Ltddescription  Card Operationscompany  Yalamanchili Software Exports Ltddescription  247 Operations Pvt Ltd Dec 2015 to Feb 2017Designation Service Manager  Operations Payment Industry  Prepaid Cards  INR  FTCKey Contributions  A resultoriented business professional in planning, executing managing processes, improving efficiency of operations, team building and detailing process information to determine effective result into operations Ensuring PINs generation SLA is maintained and chargeback cases are raised in perfect timeframe Managing email customer services properly and ensuring the emails are replied properly Also, ensuring transaction monitoring is properly managed 24/7 Assisting Bankers SBI  Associated Banks for their BCP plans by getting executed in the system with the help of DRPR plans  vice versa or any other business requirements Expertise in maintaining highest level of quality in operations ensuring adherence to all the quality parameters and procedures as per the stringent norms Lead, manage and supervise the execution of external audit engagements and responsible for presenting the findings  developing a quality reports to the senior Management and Clients Coach/mentor 20 team members to perform at a higher level by giving opportunities, providing timely continuous feedback and working with staff to improve their communication, time management, decision making, organization, and analytical skills Providing the solutions and services to the client in their own premises with aforesaid count of team members Also ensuring end to end process of PR  DR as per client requirements PR DR  DR PR by interacting with internal  external stakeholders Determining process gaps and designing  conducting training programs to enhance operational efficiency and retain talent by providing optimum opportunities for personal and professional growthcompany  Credit Cardsdescription  Ensured highest standard of customer satisfaction and quality service developing new policies and procedures to improve based on customer feedback and resolving customer queries via correspondence, inbound calls  email channels with the strength of 1216 Team memberscompany  AGS Transact Technologies Limiteddescription  Key Contributions Lead  SPOC to Bankscompany  TATA Communications Payment Solutions Ltddescription  To make ATMs operational within TAT by analyzing the issue is technical or nontechnical and also by interacting with internal  external stakeholderscompany  Vertex Customer Solutions India Private Ltddescription  Key Contributions  Build positive working relationship with all team members and clients by keeping Management informed   of KYC document collection  concurrent audit progress, responding timely to Management inquiries, understanding the business and conducting self professionallycompany  Financial Inclusion Network  Operations Limiteddescription  Key Contributions POSOperations  Cascading the adherence of process is strictly followed by team members  training them to reduce the downtime Managing Stock of EDC Terminals  Managing Deployments of terminals through Multiple teams  Would have worked with multiple terminal make  model  Managing Inward, Outward  QC of applications installed in the POS machinescompany  Venture Infotek Private Ltddescription  Key Contributions POSOperationscompany  Axis Bank Ltd  Customer Servicesdescription  Aug 2006 to Oct 2009 MaFoiI smartDesignation Team Leader/Executive  Emails, Phone Banking  Correspondence Unit Snail Mails\",\n          \"Skill Set Hadoop, Map Reduce, HDFS, Hive, Sqoop, java Duration 2016 to 2017 Role Hadoop Developer Rplus offers an quick, simple and powerful cloud based Solution, Demand Sense to accurately predict demand for your product in all your markets which Combines Enterprise and External Data to predict demand more accurately through Uses Social Conversation and Sentiments to derive demand and Identifies significant drivers of sale out of hordes of factors that Selects the best suited model out of multiple forecasting models for each product Responsibilities  Involved in deploying the product for customers, gathering requirements and algorithm optimization at backend of the product  Load and transform Large Datasets of structured semi structured  Responsible to manage data coming from different sources and application  Supported Map Reduce Programs those are running on the cluster  Involved in creating Hive tables, loading with data and writing hive queries which will run internally in map reduce wayEducation Details Hadoop Developer Hadoop Developer  BraindatawireSkill Details APACHE HADOOP HDFS Exprience  49 monthsAPACHE HADOOP SQOOP Exprience  49 monthsHadoop Exprience  49 monthsHADOOP Exprience  49 monthsHADOOP DISTRIBUTED FILE SYSTEM Exprience  49 monthsCompany Details company  Braindatawiredescription  Technical Skills   Programming Core Java, Map Reduce, Scala   Hadoop Tools HDFS, Spark, Map Reduce, Sqoop, Hive, Hbase   Database MySQL, Oracle   Scripting Shell Scripting   IDE Eclipse   Operating Systems Linux CentOS, Windows   Source Control Git Github\",\n          \"IT Skills Area Exposure Modeling Tool Bizagi, MS Visio Prototyping Tool Indigo Studio Documentation MS Office MS Word, MS Excel, MS Power Point Testing Proficiency Smoke, Sanity, Integration, Functional, Acceptance and UI Methodology implemented Waterfall, Agile Scrum Database SQL Testing Tool HPQC Business Exposure Education Details  Bachelor Of Computer Engineering Computer Engineering Mumbai, Maharashtra Thadomal Shahani Engineering college Diploma Computer Engineering Ulhasnagar, Maharashtra Institute of Technology Secondary School Certificate  Ulhasnagar, Maharashtra New English High SchoolSenior Business Analyst  RPA Senior Business Analyst  RPA  Hexaware TechnologiesSkill Details DOCUMENTATION Exprience  47 monthsTESTING Exprience  29 monthsINTEGRATION Exprience  25 monthsINTEGRATOR Exprience  25 monthsPROTOTYPE Exprience  13 monthsCompany Details company  Hexaware Technologiesdescription  Working as a RPA Business Analystcompany  BBH Brown Brothers Harriman  Codescription  is a private bank that provides commercial banking, investment management, brokerage, and trust services to private companies and individuals It also performs merger advisory, foreign exchange, custody services, commercial banking, and corporate financing servicesResponsibilities  Performed Automation Assessment of various Processes and identified processes which can be candidates of RPA Conducting Assessment that involves an initial Understanding of the Existing System, their technology, processes, Usage of the tools, Feasibility of tool with automation tool along with automation ROI analysis Preparing the Automation Potential Sheet which describes the steps in the process, the volume and frequency of the transaction, the AHT taken by SME to perform the process and depending on the steps that could be automated, Automation potential and the manual efforts that will be saved are calculatedCalculating the complexity of the Process which is considered for automation and depending on all these factors Number of Bots and Number of Automation tool Licenses are determined Implementing a Proof of Concept POC to Validate Feasibility by executing the selected critical use cases for conducting a POC which will helps to identify financial and operational benefits and provide recommendations regarding the actual need for complete automation Gathering business requirements by conducting detailed interviews with business users, stakeholders, and Subject Matter Experts SMEs  Preparing Business Requirement Document and then converted Business requirements into Functional Requirements Specification  Constructing prototype early toward a design acceptable to the customer and feasible Assisting in designing test plans, test scenarios and test cases for integration, regression, and user acceptance testing UAT to improve the overall quality of the Automation Participating regularly in Walkthroughs and Review meetings with Project Manager, QA Engineers, and Development team Regularly interacting with offshore and onshore development teamscompany  FADV  First Advantagedescription  is a criminal background check company that delivers global solutions ranging from employment screenings to background checksThe following are the processes which were coveredEmail Process, Research Process, Review ProcessResponsibilities  Requirement Gathering through conducting Interviews  Brainstorming sessions with stakeholders  To develop decision models and execute those rules as per the use case specifications To Test/validate the decision models against document test data To maintain and enhance the decision models for changes in regulations as per use case specifications Responsible for performing the business research that will make a business growth Developing a clear understanding of existing business functions and processes Effectively communicate with the onsite clients for the queries, suggestions, and update Giving suggestions to enhance the current processes Identifying areas for process improvement Flagging up potential problems at an early stage Preparing PowerPoint presentations and documents for business meetings Using any information gathered to write up detailed reports Highlighting risks and issues that could impact project delivery Able to work accurately To develop and maintain documentation for internal team training and client end user operations To work efficiently with team members and across teams To mentor and train junior team memberscompany  Clinical Testing, Lab Work and Diagnostic Testingdescription  IQVIA provides services to its customers this includes Clinical Testing, Lab Work and Diagnostic Testing under clinical trial These customers need to pay to IQVIA and aging details and invoices are generated for the sameThe following are the processes which were coveredTracking Payments, Automated Real Time Metrics Reporting Dashboard, Past Due Notifications, AR Statements, Credit/RebillResponsibilities  Conducting meetings with clients and key stakeholders to gather requirements, analyze, finalize and have formal signoffs from approvers Gather and perform analysis of the business requirements  Translating the business requirements into the Business Requirement Document BRD, Functional Requirement Document FRD Facilitating meetings with the appropriate subject matter experts in both business and technology teams  Coordinating with business user community for the execution of user acceptance test as well as tracking issues  Working, collaborating and coordinating with Offshore and Onsite team members to fulfill the BA responsibilities from project initiation to PostImplementation  Reviewing the test scripts with business users as well as technology team Execute test scripts with expected results for the System Integration Test SIT and User Acceptance Test UAT  Coordinating and conducting the Production Acceptance Testing PAT with the business users  Creating flow diagrams, structure charts, and other types of system or process representations  Managing changes to requirements and baseline through a change control process  Utilizing standard methods, design and testing tools throughout project development life cycle  Work closely with the operational functional teams, operations management, and personnel, and various technology teams to facilitate a shared understanding of requirements and priorities across all areascompany  Eduavenir IT Solutiondescription  Project MBMSMBMS  is an Inventory management application that allows user to manage inventory details of different warehouses, having different products located at various locations and help extract what goods have been procured, sold or returned by customers It generates automated invoicesalong withcustomized reports It also managescustomer complaint and resolution system implementation along with automated MIS on monthly basisSales and forecastingis also developed on MIS System and the streamlining of process of warehousing and dispatch along with online proof of delivery management system POD documentation is generatedResponsibilities  Participate in requirement gathering discussion with client to understand the flow of business processes  Analyze the requirements and determine the core processes, develop Process Documentation and ensure to stay uptodate in conjunction with ongoing changes  Participate in process flow analysis and preparing BRD, SRS Coordinating with developers, designers  operations teams for various nuances of the project, communicate the stakeholder requirements from requirement /enhancement to implementation and finally deliver the same within estimated timeframe Support UAT by reviewing test cases, manage version control of documents, software builds Coordinate with the stakeholders for UAT sign off and coordinate internally for production movement till Golive stage of the application Provide demo and training to internal and end user using PowerPoint presentation Resolving project functional technical issues during UAT Prioritizing the Production bugs and resolving the same within the estimated timeframe Preparing Project Status Report and Production Bugs Status to all the stakeholders Promoting and Networking for online trading platform Designing query sheet for obtaining and comparison of quotes from various vendors Development of product codes / material codes for inventory management Master Data Managementcompany  CAPGEMINI Head Officedescription  Type Mobile and Device Testing       Duration January 2014  August 2014Follet  An application which takes an electronic request from the user for the books he requires from a particular follet store This detailed information about books that will include the name of the book, its price, the date of the transaction and the parties involved which will then be sent to follet stores User then create request for one or more books for a given date This request is then processed further and user gets a mail of the date when he will be provided with that bookResponsibilities  Understanding the needs and business requirements Preparing BRD, SRS by eliciting all the requirements from the client and SMEs  Understanding the dependency of the modules in the system  Preparation of test plan for Unit level and Integration level Preparation and execution of test cases Defect tracking, Issue Resolution, Risk Monitoring, Status Tracking, Reporting and Followup Preparation of Test Completion reportcompany  CAPGEMINI Head Officedescription  company  CAPGEMINI Head Officedescription  Humana is a health care insurance project of US which deals with supplying various medicines to citizens as per the doctors reference and patients insurance policy This application keeps track of all the medicines user has consumed in the past and generates a patient history A citizen is given a drug only after the doctors reference so the doctors information is also linked with the patients historyResponsibilities  Understanding the requirements and getting clarifications from client Involved in writing test cases based on test scenarios and execute them Ensuring Test Coverage using Requirement Traceability Matrix RTM  Preparation of Test Completion reportcompany  CAPGEMINI Head Officedescription  Testing Trends WQR World Quality Report is an application which allows the users to take a survey on different methods and technologies used for testing Users can choose to answer any type of questions under three different categories Users have a facility to search, view and export the data to excel Also, users get daily and weekly reports through email about the new trends in testing implemented around the globe Testing Trends WQR app is available on Android and IOS platformsResponsibilities  Understanding the requirements and getting clarifications from client Writing test cases based on test scenarios and executed them Performing different types of testing such as Functional, Integration, System, and UAT Defect resolution and maintenance of the application\"\n        ],\n        \"semantic_type\": \"\",\n        \"description\": \"\"\n      }\n    }\n  ]\n}"
            }
          },
          "metadata": {},
          "execution_count": 28
        }
      ]
    },
    {
      "cell_type": "code",
      "source": [
        "from sklearn.preprocessing import LabelEncoder\n",
        "le = LabelEncoder()"
      ],
      "metadata": {
        "id": "8nU2uoP8ub7n"
      },
      "execution_count": null,
      "outputs": []
    },
    {
      "cell_type": "code",
      "source": [
        "le.fit(df['Category'])\n",
        "df['Category']=le.transform(df['Category'])"
      ],
      "metadata": {
        "id": "sdonYs-Oulxt"
      },
      "execution_count": null,
      "outputs": []
    },
    {
      "cell_type": "code",
      "source": [
        "df\n"
      ],
      "metadata": {
        "id": "YVUtmQYZvBx2",
        "outputId": "16348ac1-2981-4cca-c83c-50c8d9b23994",
        "colab": {
          "base_uri": "https://localhost:8080/",
          "height": 423
        }
      },
      "execution_count": null,
      "outputs": [
        {
          "output_type": "execute_result",
          "data": {
            "text/plain": [
              "     Category                                             Resume\n",
              "0           6  Skills  Programming Languages Python pandas, n...\n",
              "1           6  Education Details May 2013 to May 2017 BE   UI...\n",
              "2           6  Areas of Interest Deep Learning, Control Syste...\n",
              "3           6  Skills  R  Python  SAP HANA  Tableau  SAP HANA...\n",
              "4           6  Education Details  MCA   YMCAUST,  Faridabad, ...\n",
              "..        ...                                                ...\n",
              "957        23  Computer Skills  Proficient in MS office Word,...\n",
              "958        23   Willingness to accept the challenges  Positiv...\n",
              "959        23  PERSONAL SKILLS  Quick learner,  Eagerness to ...\n",
              "960        23  COMPUTER SKILLS  SOFTWARE KNOWLEDGE MSPower Po...\n",
              "961        23  Skill Set OS Windows XP/7/8/81/10 Database MYS...\n",
              "\n",
              "[962 rows x 2 columns]"
            ],
            "text/html": [
              "\n",
              "  <div id=\"df-bd564f2f-73f4-4094-93d8-cc309dee10b3\" class=\"colab-df-container\">\n",
              "    <div>\n",
              "<style scoped>\n",
              "    .dataframe tbody tr th:only-of-type {\n",
              "        vertical-align: middle;\n",
              "    }\n",
              "\n",
              "    .dataframe tbody tr th {\n",
              "        vertical-align: top;\n",
              "    }\n",
              "\n",
              "    .dataframe thead th {\n",
              "        text-align: right;\n",
              "    }\n",
              "</style>\n",
              "<table border=\"1\" class=\"dataframe\">\n",
              "  <thead>\n",
              "    <tr style=\"text-align: right;\">\n",
              "      <th></th>\n",
              "      <th>Category</th>\n",
              "      <th>Resume</th>\n",
              "    </tr>\n",
              "  </thead>\n",
              "  <tbody>\n",
              "    <tr>\n",
              "      <th>0</th>\n",
              "      <td>6</td>\n",
              "      <td>Skills  Programming Languages Python pandas, n...</td>\n",
              "    </tr>\n",
              "    <tr>\n",
              "      <th>1</th>\n",
              "      <td>6</td>\n",
              "      <td>Education Details May 2013 to May 2017 BE   UI...</td>\n",
              "    </tr>\n",
              "    <tr>\n",
              "      <th>2</th>\n",
              "      <td>6</td>\n",
              "      <td>Areas of Interest Deep Learning, Control Syste...</td>\n",
              "    </tr>\n",
              "    <tr>\n",
              "      <th>3</th>\n",
              "      <td>6</td>\n",
              "      <td>Skills  R  Python  SAP HANA  Tableau  SAP HANA...</td>\n",
              "    </tr>\n",
              "    <tr>\n",
              "      <th>4</th>\n",
              "      <td>6</td>\n",
              "      <td>Education Details  MCA   YMCAUST,  Faridabad, ...</td>\n",
              "    </tr>\n",
              "    <tr>\n",
              "      <th>...</th>\n",
              "      <td>...</td>\n",
              "      <td>...</td>\n",
              "    </tr>\n",
              "    <tr>\n",
              "      <th>957</th>\n",
              "      <td>23</td>\n",
              "      <td>Computer Skills  Proficient in MS office Word,...</td>\n",
              "    </tr>\n",
              "    <tr>\n",
              "      <th>958</th>\n",
              "      <td>23</td>\n",
              "      <td>Willingness to accept the challenges  Positiv...</td>\n",
              "    </tr>\n",
              "    <tr>\n",
              "      <th>959</th>\n",
              "      <td>23</td>\n",
              "      <td>PERSONAL SKILLS  Quick learner,  Eagerness to ...</td>\n",
              "    </tr>\n",
              "    <tr>\n",
              "      <th>960</th>\n",
              "      <td>23</td>\n",
              "      <td>COMPUTER SKILLS  SOFTWARE KNOWLEDGE MSPower Po...</td>\n",
              "    </tr>\n",
              "    <tr>\n",
              "      <th>961</th>\n",
              "      <td>23</td>\n",
              "      <td>Skill Set OS Windows XP/7/8/81/10 Database MYS...</td>\n",
              "    </tr>\n",
              "  </tbody>\n",
              "</table>\n",
              "<p>962 rows × 2 columns</p>\n",
              "</div>\n",
              "    <div class=\"colab-df-buttons\">\n",
              "\n",
              "  <div class=\"colab-df-container\">\n",
              "    <button class=\"colab-df-convert\" onclick=\"convertToInteractive('df-bd564f2f-73f4-4094-93d8-cc309dee10b3')\"\n",
              "            title=\"Convert this dataframe to an interactive table.\"\n",
              "            style=\"display:none;\">\n",
              "\n",
              "  <svg xmlns=\"http://www.w3.org/2000/svg\" height=\"24px\" viewBox=\"0 -960 960 960\">\n",
              "    <path d=\"M120-120v-720h720v720H120Zm60-500h600v-160H180v160Zm220 220h160v-160H400v160Zm0 220h160v-160H400v160ZM180-400h160v-160H180v160Zm440 0h160v-160H620v160ZM180-180h160v-160H180v160Zm440 0h160v-160H620v160Z\"/>\n",
              "  </svg>\n",
              "    </button>\n",
              "\n",
              "  <style>\n",
              "    .colab-df-container {\n",
              "      display:flex;\n",
              "      gap: 12px;\n",
              "    }\n",
              "\n",
              "    .colab-df-convert {\n",
              "      background-color: #E8F0FE;\n",
              "      border: none;\n",
              "      border-radius: 50%;\n",
              "      cursor: pointer;\n",
              "      display: none;\n",
              "      fill: #1967D2;\n",
              "      height: 32px;\n",
              "      padding: 0 0 0 0;\n",
              "      width: 32px;\n",
              "    }\n",
              "\n",
              "    .colab-df-convert:hover {\n",
              "      background-color: #E2EBFA;\n",
              "      box-shadow: 0px 1px 2px rgba(60, 64, 67, 0.3), 0px 1px 3px 1px rgba(60, 64, 67, 0.15);\n",
              "      fill: #174EA6;\n",
              "    }\n",
              "\n",
              "    .colab-df-buttons div {\n",
              "      margin-bottom: 4px;\n",
              "    }\n",
              "\n",
              "    [theme=dark] .colab-df-convert {\n",
              "      background-color: #3B4455;\n",
              "      fill: #D2E3FC;\n",
              "    }\n",
              "\n",
              "    [theme=dark] .colab-df-convert:hover {\n",
              "      background-color: #434B5C;\n",
              "      box-shadow: 0px 1px 3px 1px rgba(0, 0, 0, 0.15);\n",
              "      filter: drop-shadow(0px 1px 2px rgba(0, 0, 0, 0.3));\n",
              "      fill: #FFFFFF;\n",
              "    }\n",
              "  </style>\n",
              "\n",
              "    <script>\n",
              "      const buttonEl =\n",
              "        document.querySelector('#df-bd564f2f-73f4-4094-93d8-cc309dee10b3 button.colab-df-convert');\n",
              "      buttonEl.style.display =\n",
              "        google.colab.kernel.accessAllowed ? 'block' : 'none';\n",
              "\n",
              "      async function convertToInteractive(key) {\n",
              "        const element = document.querySelector('#df-bd564f2f-73f4-4094-93d8-cc309dee10b3');\n",
              "        const dataTable =\n",
              "          await google.colab.kernel.invokeFunction('convertToInteractive',\n",
              "                                                    [key], {});\n",
              "        if (!dataTable) return;\n",
              "\n",
              "        const docLinkHtml = 'Like what you see? Visit the ' +\n",
              "          '<a target=\"_blank\" href=https://colab.research.google.com/notebooks/data_table.ipynb>data table notebook</a>'\n",
              "          + ' to learn more about interactive tables.';\n",
              "        element.innerHTML = '';\n",
              "        dataTable['output_type'] = 'display_data';\n",
              "        await google.colab.output.renderOutput(dataTable, element);\n",
              "        const docLink = document.createElement('div');\n",
              "        docLink.innerHTML = docLinkHtml;\n",
              "        element.appendChild(docLink);\n",
              "      }\n",
              "    </script>\n",
              "  </div>\n",
              "\n",
              "\n",
              "<div id=\"df-a9d148cf-cba2-4793-8f6e-49be885272c9\">\n",
              "  <button class=\"colab-df-quickchart\" onclick=\"quickchart('df-a9d148cf-cba2-4793-8f6e-49be885272c9')\"\n",
              "            title=\"Suggest charts\"\n",
              "            style=\"display:none;\">\n",
              "\n",
              "<svg xmlns=\"http://www.w3.org/2000/svg\" height=\"24px\"viewBox=\"0 0 24 24\"\n",
              "     width=\"24px\">\n",
              "    <g>\n",
              "        <path d=\"M19 3H5c-1.1 0-2 .9-2 2v14c0 1.1.9 2 2 2h14c1.1 0 2-.9 2-2V5c0-1.1-.9-2-2-2zM9 17H7v-7h2v7zm4 0h-2V7h2v10zm4 0h-2v-4h2v4z\"/>\n",
              "    </g>\n",
              "</svg>\n",
              "  </button>\n",
              "\n",
              "<style>\n",
              "  .colab-df-quickchart {\n",
              "      --bg-color: #E8F0FE;\n",
              "      --fill-color: #1967D2;\n",
              "      --hover-bg-color: #E2EBFA;\n",
              "      --hover-fill-color: #174EA6;\n",
              "      --disabled-fill-color: #AAA;\n",
              "      --disabled-bg-color: #DDD;\n",
              "  }\n",
              "\n",
              "  [theme=dark] .colab-df-quickchart {\n",
              "      --bg-color: #3B4455;\n",
              "      --fill-color: #D2E3FC;\n",
              "      --hover-bg-color: #434B5C;\n",
              "      --hover-fill-color: #FFFFFF;\n",
              "      --disabled-bg-color: #3B4455;\n",
              "      --disabled-fill-color: #666;\n",
              "  }\n",
              "\n",
              "  .colab-df-quickchart {\n",
              "    background-color: var(--bg-color);\n",
              "    border: none;\n",
              "    border-radius: 50%;\n",
              "    cursor: pointer;\n",
              "    display: none;\n",
              "    fill: var(--fill-color);\n",
              "    height: 32px;\n",
              "    padding: 0;\n",
              "    width: 32px;\n",
              "  }\n",
              "\n",
              "  .colab-df-quickchart:hover {\n",
              "    background-color: var(--hover-bg-color);\n",
              "    box-shadow: 0 1px 2px rgba(60, 64, 67, 0.3), 0 1px 3px 1px rgba(60, 64, 67, 0.15);\n",
              "    fill: var(--button-hover-fill-color);\n",
              "  }\n",
              "\n",
              "  .colab-df-quickchart-complete:disabled,\n",
              "  .colab-df-quickchart-complete:disabled:hover {\n",
              "    background-color: var(--disabled-bg-color);\n",
              "    fill: var(--disabled-fill-color);\n",
              "    box-shadow: none;\n",
              "  }\n",
              "\n",
              "  .colab-df-spinner {\n",
              "    border: 2px solid var(--fill-color);\n",
              "    border-color: transparent;\n",
              "    border-bottom-color: var(--fill-color);\n",
              "    animation:\n",
              "      spin 1s steps(1) infinite;\n",
              "  }\n",
              "\n",
              "  @keyframes spin {\n",
              "    0% {\n",
              "      border-color: transparent;\n",
              "      border-bottom-color: var(--fill-color);\n",
              "      border-left-color: var(--fill-color);\n",
              "    }\n",
              "    20% {\n",
              "      border-color: transparent;\n",
              "      border-left-color: var(--fill-color);\n",
              "      border-top-color: var(--fill-color);\n",
              "    }\n",
              "    30% {\n",
              "      border-color: transparent;\n",
              "      border-left-color: var(--fill-color);\n",
              "      border-top-color: var(--fill-color);\n",
              "      border-right-color: var(--fill-color);\n",
              "    }\n",
              "    40% {\n",
              "      border-color: transparent;\n",
              "      border-right-color: var(--fill-color);\n",
              "      border-top-color: var(--fill-color);\n",
              "    }\n",
              "    60% {\n",
              "      border-color: transparent;\n",
              "      border-right-color: var(--fill-color);\n",
              "    }\n",
              "    80% {\n",
              "      border-color: transparent;\n",
              "      border-right-color: var(--fill-color);\n",
              "      border-bottom-color: var(--fill-color);\n",
              "    }\n",
              "    90% {\n",
              "      border-color: transparent;\n",
              "      border-bottom-color: var(--fill-color);\n",
              "    }\n",
              "  }\n",
              "</style>\n",
              "\n",
              "  <script>\n",
              "    async function quickchart(key) {\n",
              "      const quickchartButtonEl =\n",
              "        document.querySelector('#' + key + ' button');\n",
              "      quickchartButtonEl.disabled = true;  // To prevent multiple clicks.\n",
              "      quickchartButtonEl.classList.add('colab-df-spinner');\n",
              "      try {\n",
              "        const charts = await google.colab.kernel.invokeFunction(\n",
              "            'suggestCharts', [key], {});\n",
              "      } catch (error) {\n",
              "        console.error('Error during call to suggestCharts:', error);\n",
              "      }\n",
              "      quickchartButtonEl.classList.remove('colab-df-spinner');\n",
              "      quickchartButtonEl.classList.add('colab-df-quickchart-complete');\n",
              "    }\n",
              "    (() => {\n",
              "      let quickchartButtonEl =\n",
              "        document.querySelector('#df-a9d148cf-cba2-4793-8f6e-49be885272c9 button');\n",
              "      quickchartButtonEl.style.display =\n",
              "        google.colab.kernel.accessAllowed ? 'block' : 'none';\n",
              "    })();\n",
              "  </script>\n",
              "</div>\n",
              "\n",
              "  <div id=\"id_2f17cb45-d039-4a57-990d-b9eb52f21349\">\n",
              "    <style>\n",
              "      .colab-df-generate {\n",
              "        background-color: #E8F0FE;\n",
              "        border: none;\n",
              "        border-radius: 50%;\n",
              "        cursor: pointer;\n",
              "        display: none;\n",
              "        fill: #1967D2;\n",
              "        height: 32px;\n",
              "        padding: 0 0 0 0;\n",
              "        width: 32px;\n",
              "      }\n",
              "\n",
              "      .colab-df-generate:hover {\n",
              "        background-color: #E2EBFA;\n",
              "        box-shadow: 0px 1px 2px rgba(60, 64, 67, 0.3), 0px 1px 3px 1px rgba(60, 64, 67, 0.15);\n",
              "        fill: #174EA6;\n",
              "      }\n",
              "\n",
              "      [theme=dark] .colab-df-generate {\n",
              "        background-color: #3B4455;\n",
              "        fill: #D2E3FC;\n",
              "      }\n",
              "\n",
              "      [theme=dark] .colab-df-generate:hover {\n",
              "        background-color: #434B5C;\n",
              "        box-shadow: 0px 1px 3px 1px rgba(0, 0, 0, 0.15);\n",
              "        filter: drop-shadow(0px 1px 2px rgba(0, 0, 0, 0.3));\n",
              "        fill: #FFFFFF;\n",
              "      }\n",
              "    </style>\n",
              "    <button class=\"colab-df-generate\" onclick=\"generateWithVariable('df')\"\n",
              "            title=\"Generate code using this dataframe.\"\n",
              "            style=\"display:none;\">\n",
              "\n",
              "  <svg xmlns=\"http://www.w3.org/2000/svg\" height=\"24px\"viewBox=\"0 0 24 24\"\n",
              "       width=\"24px\">\n",
              "    <path d=\"M7,19H8.4L18.45,9,17,7.55,7,17.6ZM5,21V16.75L18.45,3.32a2,2,0,0,1,2.83,0l1.4,1.43a1.91,1.91,0,0,1,.58,1.4,1.91,1.91,0,0,1-.58,1.4L9.25,21ZM18.45,9,17,7.55Zm-12,3A5.31,5.31,0,0,0,4.9,8.1,5.31,5.31,0,0,0,1,6.5,5.31,5.31,0,0,0,4.9,4.9,5.31,5.31,0,0,0,6.5,1,5.31,5.31,0,0,0,8.1,4.9,5.31,5.31,0,0,0,12,6.5,5.46,5.46,0,0,0,6.5,12Z\"/>\n",
              "  </svg>\n",
              "    </button>\n",
              "    <script>\n",
              "      (() => {\n",
              "      const buttonEl =\n",
              "        document.querySelector('#id_2f17cb45-d039-4a57-990d-b9eb52f21349 button.colab-df-generate');\n",
              "      buttonEl.style.display =\n",
              "        google.colab.kernel.accessAllowed ? 'block' : 'none';\n",
              "\n",
              "      buttonEl.onclick = () => {\n",
              "        google.colab.notebook.generateWithVariable('df');\n",
              "      }\n",
              "      })();\n",
              "    </script>\n",
              "  </div>\n",
              "\n",
              "    </div>\n",
              "  </div>\n"
            ],
            "application/vnd.google.colaboratory.intrinsic+json": {
              "type": "dataframe",
              "variable_name": "df",
              "summary": "{\n  \"name\": \"df\",\n  \"rows\": 962,\n  \"fields\": [\n    {\n      \"column\": \"Category\",\n      \"properties\": {\n        \"dtype\": \"number\",\n        \"std\": 7,\n        \"min\": 0,\n        \"max\": 24,\n        \"num_unique_values\": 25,\n        \"samples\": [\n          5,\n          8,\n          6\n        ],\n        \"semantic_type\": \"\",\n        \"description\": \"\"\n      }\n    },\n    {\n      \"column\": \"Resume\",\n      \"properties\": {\n        \"dtype\": \"category\",\n        \"num_unique_values\": 166,\n        \"samples\": [\n          \"KEY COMPETENCIES Multi  Operations ManagementPeople Management Customer Services  Emails  MIS Vendor  Client Services ManagementCross Functional CoordinationBanking  Financial Services Transaction Monitoring  ATM Operations   Prepaid Card Operations PreIssuance  PostIssuance  POS Operations  JOB PROFILE  SKILLS  An effective communicator with excellent relationship building  interpersonal skills Strong analytical, problem solving  organizational abilities  Extensive experience in managing operations with demonstrated leadership qualities  organisational skills during the tenure  Managing customer centric operations  ensuring customer satisfaction by achieving service quality norms  Analyzing of all operational problems, customer complaints and take preventive and corrective actions to resolve the same  Receive and respond to Key customer inquiries in an effective manner and provide relevant and timely information  Deft in steering banking backend operations, analyzing risks and managing delinquencies with dexterity across applying techniques for maximizing recoveries and minimizing credit losses  Analyzed  identified training needs of the team members and developing, organizing and conducting training programs and manage bottom quartile team to improve their performance  Preparing and maintaining daily MIS reports to evaluate the performance and efficiency of the process relate to various verticals  Measuring the performance of the processes in terms of efficiency and effectiveness matrix and ensuring adherence to SLA  Major Activities Define processes for Field Services were monitored and necessary checks were executed and controlled Also measured Vendor SLA by analyzing the TAT of vendors  the Client SLA provided to us  As per company procedures, handling  ensuring vendors payment issues to be sorted out payments are processed on quarterly basis  Appropriately plan and execute each skill of operations in accordance with the departments policies and procedures  Manage relationships with business team, software development team and other services to achieve project objectives Different software Worked till now  a CTL prime  Axis Bank Credit Cards b Insight  For POS Machine technical operations for Amex MID  TID Generation ATOS Venture Infotek c Ticket Management System  TATA Communications Private Services Ltd ATM  NOC Operations d Branch Portal Yalamanchili Software Exports Ltd  Prepaid Cards SBI Bank  Zaggle Prepaid Oceans Services Ltd Zaggle Prepaid Ocean Services Pvt Ltd Oct, 2017 to Till Date Designation Manager  Operations Payment Industry  Prepaid Cards  INR Education Details   Commerce Mumbai, Maharashtra Mumbai UniversityOperations Manager Service Manager  Operations Payment Industry  Prepaid Cards  INR  FTCSkill Details OPERATIONS Exprience  73 monthsSATISFACTION Exprience  48 monthsTRAINING Exprience  24 monthsNOC Exprience  23 monthsPOINT OF SALE Exprience  20 monthsCompany Details company  Zaggle Prepaid Ocean Services Pvt Ltddescription  Card Operationscompany  Yalamanchili Software Exports Ltddescription  247 Operations Pvt Ltd Dec 2015 to Feb 2017Designation Service Manager  Operations Payment Industry  Prepaid Cards  INR  FTCKey Contributions  A resultoriented business professional in planning, executing managing processes, improving efficiency of operations, team building and detailing process information to determine effective result into operations Ensuring PINs generation SLA is maintained and chargeback cases are raised in perfect timeframe Managing email customer services properly and ensuring the emails are replied properly Also, ensuring transaction monitoring is properly managed 24/7 Assisting Bankers SBI  Associated Banks for their BCP plans by getting executed in the system with the help of DRPR plans  vice versa or any other business requirements Expertise in maintaining highest level of quality in operations ensuring adherence to all the quality parameters and procedures as per the stringent norms Lead, manage and supervise the execution of external audit engagements and responsible for presenting the findings  developing a quality reports to the senior Management and Clients Coach/mentor 20 team members to perform at a higher level by giving opportunities, providing timely continuous feedback and working with staff to improve their communication, time management, decision making, organization, and analytical skills Providing the solutions and services to the client in their own premises with aforesaid count of team members Also ensuring end to end process of PR  DR as per client requirements PR DR  DR PR by interacting with internal  external stakeholders Determining process gaps and designing  conducting training programs to enhance operational efficiency and retain talent by providing optimum opportunities for personal and professional growthcompany  Credit Cardsdescription  Ensured highest standard of customer satisfaction and quality service developing new policies and procedures to improve based on customer feedback and resolving customer queries via correspondence, inbound calls  email channels with the strength of 1216 Team memberscompany  AGS Transact Technologies Limiteddescription  Key Contributions Lead  SPOC to Bankscompany  TATA Communications Payment Solutions Ltddescription  To make ATMs operational within TAT by analyzing the issue is technical or nontechnical and also by interacting with internal  external stakeholderscompany  Vertex Customer Solutions India Private Ltddescription  Key Contributions  Build positive working relationship with all team members and clients by keeping Management informed   of KYC document collection  concurrent audit progress, responding timely to Management inquiries, understanding the business and conducting self professionallycompany  Financial Inclusion Network  Operations Limiteddescription  Key Contributions POSOperations  Cascading the adherence of process is strictly followed by team members  training them to reduce the downtime Managing Stock of EDC Terminals  Managing Deployments of terminals through Multiple teams  Would have worked with multiple terminal make  model  Managing Inward, Outward  QC of applications installed in the POS machinescompany  Venture Infotek Private Ltddescription  Key Contributions POSOperationscompany  Axis Bank Ltd  Customer Servicesdescription  Aug 2006 to Oct 2009 MaFoiI smartDesignation Team Leader/Executive  Emails, Phone Banking  Correspondence Unit Snail Mails\",\n          \"Skill Set Hadoop, Map Reduce, HDFS, Hive, Sqoop, java Duration 2016 to 2017 Role Hadoop Developer Rplus offers an quick, simple and powerful cloud based Solution, Demand Sense to accurately predict demand for your product in all your markets which Combines Enterprise and External Data to predict demand more accurately through Uses Social Conversation and Sentiments to derive demand and Identifies significant drivers of sale out of hordes of factors that Selects the best suited model out of multiple forecasting models for each product Responsibilities  Involved in deploying the product for customers, gathering requirements and algorithm optimization at backend of the product  Load and transform Large Datasets of structured semi structured  Responsible to manage data coming from different sources and application  Supported Map Reduce Programs those are running on the cluster  Involved in creating Hive tables, loading with data and writing hive queries which will run internally in map reduce wayEducation Details Hadoop Developer Hadoop Developer  BraindatawireSkill Details APACHE HADOOP HDFS Exprience  49 monthsAPACHE HADOOP SQOOP Exprience  49 monthsHadoop Exprience  49 monthsHADOOP Exprience  49 monthsHADOOP DISTRIBUTED FILE SYSTEM Exprience  49 monthsCompany Details company  Braindatawiredescription  Technical Skills   Programming Core Java, Map Reduce, Scala   Hadoop Tools HDFS, Spark, Map Reduce, Sqoop, Hive, Hbase   Database MySQL, Oracle   Scripting Shell Scripting   IDE Eclipse   Operating Systems Linux CentOS, Windows   Source Control Git Github\",\n          \"IT Skills Area Exposure Modeling Tool Bizagi, MS Visio Prototyping Tool Indigo Studio Documentation MS Office MS Word, MS Excel, MS Power Point Testing Proficiency Smoke, Sanity, Integration, Functional, Acceptance and UI Methodology implemented Waterfall, Agile Scrum Database SQL Testing Tool HPQC Business Exposure Education Details  Bachelor Of Computer Engineering Computer Engineering Mumbai, Maharashtra Thadomal Shahani Engineering college Diploma Computer Engineering Ulhasnagar, Maharashtra Institute of Technology Secondary School Certificate  Ulhasnagar, Maharashtra New English High SchoolSenior Business Analyst  RPA Senior Business Analyst  RPA  Hexaware TechnologiesSkill Details DOCUMENTATION Exprience  47 monthsTESTING Exprience  29 monthsINTEGRATION Exprience  25 monthsINTEGRATOR Exprience  25 monthsPROTOTYPE Exprience  13 monthsCompany Details company  Hexaware Technologiesdescription  Working as a RPA Business Analystcompany  BBH Brown Brothers Harriman  Codescription  is a private bank that provides commercial banking, investment management, brokerage, and trust services to private companies and individuals It also performs merger advisory, foreign exchange, custody services, commercial banking, and corporate financing servicesResponsibilities  Performed Automation Assessment of various Processes and identified processes which can be candidates of RPA Conducting Assessment that involves an initial Understanding of the Existing System, their technology, processes, Usage of the tools, Feasibility of tool with automation tool along with automation ROI analysis Preparing the Automation Potential Sheet which describes the steps in the process, the volume and frequency of the transaction, the AHT taken by SME to perform the process and depending on the steps that could be automated, Automation potential and the manual efforts that will be saved are calculatedCalculating the complexity of the Process which is considered for automation and depending on all these factors Number of Bots and Number of Automation tool Licenses are determined Implementing a Proof of Concept POC to Validate Feasibility by executing the selected critical use cases for conducting a POC which will helps to identify financial and operational benefits and provide recommendations regarding the actual need for complete automation Gathering business requirements by conducting detailed interviews with business users, stakeholders, and Subject Matter Experts SMEs  Preparing Business Requirement Document and then converted Business requirements into Functional Requirements Specification  Constructing prototype early toward a design acceptable to the customer and feasible Assisting in designing test plans, test scenarios and test cases for integration, regression, and user acceptance testing UAT to improve the overall quality of the Automation Participating regularly in Walkthroughs and Review meetings with Project Manager, QA Engineers, and Development team Regularly interacting with offshore and onshore development teamscompany  FADV  First Advantagedescription  is a criminal background check company that delivers global solutions ranging from employment screenings to background checksThe following are the processes which were coveredEmail Process, Research Process, Review ProcessResponsibilities  Requirement Gathering through conducting Interviews  Brainstorming sessions with stakeholders  To develop decision models and execute those rules as per the use case specifications To Test/validate the decision models against document test data To maintain and enhance the decision models for changes in regulations as per use case specifications Responsible for performing the business research that will make a business growth Developing a clear understanding of existing business functions and processes Effectively communicate with the onsite clients for the queries, suggestions, and update Giving suggestions to enhance the current processes Identifying areas for process improvement Flagging up potential problems at an early stage Preparing PowerPoint presentations and documents for business meetings Using any information gathered to write up detailed reports Highlighting risks and issues that could impact project delivery Able to work accurately To develop and maintain documentation for internal team training and client end user operations To work efficiently with team members and across teams To mentor and train junior team memberscompany  Clinical Testing, Lab Work and Diagnostic Testingdescription  IQVIA provides services to its customers this includes Clinical Testing, Lab Work and Diagnostic Testing under clinical trial These customers need to pay to IQVIA and aging details and invoices are generated for the sameThe following are the processes which were coveredTracking Payments, Automated Real Time Metrics Reporting Dashboard, Past Due Notifications, AR Statements, Credit/RebillResponsibilities  Conducting meetings with clients and key stakeholders to gather requirements, analyze, finalize and have formal signoffs from approvers Gather and perform analysis of the business requirements  Translating the business requirements into the Business Requirement Document BRD, Functional Requirement Document FRD Facilitating meetings with the appropriate subject matter experts in both business and technology teams  Coordinating with business user community for the execution of user acceptance test as well as tracking issues  Working, collaborating and coordinating with Offshore and Onsite team members to fulfill the BA responsibilities from project initiation to PostImplementation  Reviewing the test scripts with business users as well as technology team Execute test scripts with expected results for the System Integration Test SIT and User Acceptance Test UAT  Coordinating and conducting the Production Acceptance Testing PAT with the business users  Creating flow diagrams, structure charts, and other types of system or process representations  Managing changes to requirements and baseline through a change control process  Utilizing standard methods, design and testing tools throughout project development life cycle  Work closely with the operational functional teams, operations management, and personnel, and various technology teams to facilitate a shared understanding of requirements and priorities across all areascompany  Eduavenir IT Solutiondescription  Project MBMSMBMS  is an Inventory management application that allows user to manage inventory details of different warehouses, having different products located at various locations and help extract what goods have been procured, sold or returned by customers It generates automated invoicesalong withcustomized reports It also managescustomer complaint and resolution system implementation along with automated MIS on monthly basisSales and forecastingis also developed on MIS System and the streamlining of process of warehousing and dispatch along with online proof of delivery management system POD documentation is generatedResponsibilities  Participate in requirement gathering discussion with client to understand the flow of business processes  Analyze the requirements and determine the core processes, develop Process Documentation and ensure to stay uptodate in conjunction with ongoing changes  Participate in process flow analysis and preparing BRD, SRS Coordinating with developers, designers  operations teams for various nuances of the project, communicate the stakeholder requirements from requirement /enhancement to implementation and finally deliver the same within estimated timeframe Support UAT by reviewing test cases, manage version control of documents, software builds Coordinate with the stakeholders for UAT sign off and coordinate internally for production movement till Golive stage of the application Provide demo and training to internal and end user using PowerPoint presentation Resolving project functional technical issues during UAT Prioritizing the Production bugs and resolving the same within the estimated timeframe Preparing Project Status Report and Production Bugs Status to all the stakeholders Promoting and Networking for online trading platform Designing query sheet for obtaining and comparison of quotes from various vendors Development of product codes / material codes for inventory management Master Data Managementcompany  CAPGEMINI Head Officedescription  Type Mobile and Device Testing       Duration January 2014  August 2014Follet  An application which takes an electronic request from the user for the books he requires from a particular follet store This detailed information about books that will include the name of the book, its price, the date of the transaction and the parties involved which will then be sent to follet stores User then create request for one or more books for a given date This request is then processed further and user gets a mail of the date when he will be provided with that bookResponsibilities  Understanding the needs and business requirements Preparing BRD, SRS by eliciting all the requirements from the client and SMEs  Understanding the dependency of the modules in the system  Preparation of test plan for Unit level and Integration level Preparation and execution of test cases Defect tracking, Issue Resolution, Risk Monitoring, Status Tracking, Reporting and Followup Preparation of Test Completion reportcompany  CAPGEMINI Head Officedescription  company  CAPGEMINI Head Officedescription  Humana is a health care insurance project of US which deals with supplying various medicines to citizens as per the doctors reference and patients insurance policy This application keeps track of all the medicines user has consumed in the past and generates a patient history A citizen is given a drug only after the doctors reference so the doctors information is also linked with the patients historyResponsibilities  Understanding the requirements and getting clarifications from client Involved in writing test cases based on test scenarios and execute them Ensuring Test Coverage using Requirement Traceability Matrix RTM  Preparation of Test Completion reportcompany  CAPGEMINI Head Officedescription  Testing Trends WQR World Quality Report is an application which allows the users to take a survey on different methods and technologies used for testing Users can choose to answer any type of questions under three different categories Users have a facility to search, view and export the data to excel Also, users get daily and weekly reports through email about the new trends in testing implemented around the globe Testing Trends WQR app is available on Android and IOS platformsResponsibilities  Understanding the requirements and getting clarifications from client Writing test cases based on test scenarios and executed them Performing different types of testing such as Functional, Integration, System, and UAT Defect resolution and maintenance of the application\"\n        ],\n        \"semantic_type\": \"\",\n        \"description\": \"\"\n      }\n    }\n  ]\n}"
            }
          },
          "metadata": {},
          "execution_count": 31
        }
      ]
    },
    {
      "cell_type": "code",
      "source": [
        "df['Category'].unique()"
      ],
      "metadata": {
        "id": "BWVUlzo7vDvg",
        "outputId": "7061c65e-4084-40d3-cf99-f1fb88573de4",
        "colab": {
          "base_uri": "https://localhost:8080/"
        }
      },
      "execution_count": null,
      "outputs": [
        {
          "output_type": "execute_result",
          "data": {
            "text/plain": [
              "array([ 6, 12,  0,  1, 24, 16, 22, 14,  5, 15,  4, 21,  2, 11, 18, 20,  8,\n",
              "       17, 19,  7, 13, 10,  9,  3, 23])"
            ]
          },
          "metadata": {},
          "execution_count": 32
        }
      ]
    },
    {
      "cell_type": "markdown",
      "source": [
        "array(['Data Science', 'HR', 'Advocate', 'Arts', 'Web Designing',\n",
        "       'Mechanical Engineer', 'Sales', 'Health and fitness',\n",
        "       'Civil Engineer', 'Java Developer', 'Business Analyst',\n",
        "       'SAP Developer', 'Automation Testing', 'Electrical Engineering',\n",
        "       'Operations Manager', 'Python Developer', 'DevOps Engineer',\n",
        "       'Network Security Engineer', 'PMO', 'Database', 'Hadoop',\n",
        "       'ETL Developer', 'DotNet Developer', 'Blockchain', 'Testing'],\n",
        "      dtype=object)"
      ],
      "metadata": {
        "id": "cGI4QYOwvx8m"
      }
    },
    {
      "cell_type": "code",
      "source": [
        "from sklearn.feature_extraction.text import TfidfVectorizer\n",
        "tfidf= TfidfVectorizer(stop_words='english')\n",
        "\n",
        "tfidf.fit(df['Resume'])\n",
        "requiredtext=tfidf.transform(df['Resume'])\n"
      ],
      "metadata": {
        "id": "JZsuUpERvw5_"
      },
      "execution_count": null,
      "outputs": []
    },
    {
      "cell_type": "code",
      "source": [
        "df\n"
      ],
      "metadata": {
        "id": "nqaKyeI_yQWo",
        "outputId": "ecad3a33-91bc-4939-cdc0-c8673e009365",
        "colab": {
          "base_uri": "https://localhost:8080/",
          "height": 423
        }
      },
      "execution_count": null,
      "outputs": [
        {
          "output_type": "execute_result",
          "data": {
            "text/plain": [
              "     Category                                             Resume\n",
              "0           6  Skills  Programming Languages Python pandas, n...\n",
              "1           6  Education Details May 2013 to May 2017 BE   UI...\n",
              "2           6  Areas of Interest Deep Learning, Control Syste...\n",
              "3           6  Skills  R  Python  SAP HANA  Tableau  SAP HANA...\n",
              "4           6  Education Details  MCA   YMCAUST,  Faridabad, ...\n",
              "..        ...                                                ...\n",
              "957        23  Computer Skills  Proficient in MS office Word,...\n",
              "958        23   Willingness to accept the challenges  Positiv...\n",
              "959        23  PERSONAL SKILLS  Quick learner,  Eagerness to ...\n",
              "960        23  COMPUTER SKILLS  SOFTWARE KNOWLEDGE MSPower Po...\n",
              "961        23  Skill Set OS Windows XP/7/8/81/10 Database MYS...\n",
              "\n",
              "[962 rows x 2 columns]"
            ],
            "text/html": [
              "\n",
              "  <div id=\"df-fb465669-6e80-45cf-9c73-83bd42b8811c\" class=\"colab-df-container\">\n",
              "    <div>\n",
              "<style scoped>\n",
              "    .dataframe tbody tr th:only-of-type {\n",
              "        vertical-align: middle;\n",
              "    }\n",
              "\n",
              "    .dataframe tbody tr th {\n",
              "        vertical-align: top;\n",
              "    }\n",
              "\n",
              "    .dataframe thead th {\n",
              "        text-align: right;\n",
              "    }\n",
              "</style>\n",
              "<table border=\"1\" class=\"dataframe\">\n",
              "  <thead>\n",
              "    <tr style=\"text-align: right;\">\n",
              "      <th></th>\n",
              "      <th>Category</th>\n",
              "      <th>Resume</th>\n",
              "    </tr>\n",
              "  </thead>\n",
              "  <tbody>\n",
              "    <tr>\n",
              "      <th>0</th>\n",
              "      <td>6</td>\n",
              "      <td>Skills  Programming Languages Python pandas, n...</td>\n",
              "    </tr>\n",
              "    <tr>\n",
              "      <th>1</th>\n",
              "      <td>6</td>\n",
              "      <td>Education Details May 2013 to May 2017 BE   UI...</td>\n",
              "    </tr>\n",
              "    <tr>\n",
              "      <th>2</th>\n",
              "      <td>6</td>\n",
              "      <td>Areas of Interest Deep Learning, Control Syste...</td>\n",
              "    </tr>\n",
              "    <tr>\n",
              "      <th>3</th>\n",
              "      <td>6</td>\n",
              "      <td>Skills  R  Python  SAP HANA  Tableau  SAP HANA...</td>\n",
              "    </tr>\n",
              "    <tr>\n",
              "      <th>4</th>\n",
              "      <td>6</td>\n",
              "      <td>Education Details  MCA   YMCAUST,  Faridabad, ...</td>\n",
              "    </tr>\n",
              "    <tr>\n",
              "      <th>...</th>\n",
              "      <td>...</td>\n",
              "      <td>...</td>\n",
              "    </tr>\n",
              "    <tr>\n",
              "      <th>957</th>\n",
              "      <td>23</td>\n",
              "      <td>Computer Skills  Proficient in MS office Word,...</td>\n",
              "    </tr>\n",
              "    <tr>\n",
              "      <th>958</th>\n",
              "      <td>23</td>\n",
              "      <td>Willingness to accept the challenges  Positiv...</td>\n",
              "    </tr>\n",
              "    <tr>\n",
              "      <th>959</th>\n",
              "      <td>23</td>\n",
              "      <td>PERSONAL SKILLS  Quick learner,  Eagerness to ...</td>\n",
              "    </tr>\n",
              "    <tr>\n",
              "      <th>960</th>\n",
              "      <td>23</td>\n",
              "      <td>COMPUTER SKILLS  SOFTWARE KNOWLEDGE MSPower Po...</td>\n",
              "    </tr>\n",
              "    <tr>\n",
              "      <th>961</th>\n",
              "      <td>23</td>\n",
              "      <td>Skill Set OS Windows XP/7/8/81/10 Database MYS...</td>\n",
              "    </tr>\n",
              "  </tbody>\n",
              "</table>\n",
              "<p>962 rows × 2 columns</p>\n",
              "</div>\n",
              "    <div class=\"colab-df-buttons\">\n",
              "\n",
              "  <div class=\"colab-df-container\">\n",
              "    <button class=\"colab-df-convert\" onclick=\"convertToInteractive('df-fb465669-6e80-45cf-9c73-83bd42b8811c')\"\n",
              "            title=\"Convert this dataframe to an interactive table.\"\n",
              "            style=\"display:none;\">\n",
              "\n",
              "  <svg xmlns=\"http://www.w3.org/2000/svg\" height=\"24px\" viewBox=\"0 -960 960 960\">\n",
              "    <path d=\"M120-120v-720h720v720H120Zm60-500h600v-160H180v160Zm220 220h160v-160H400v160Zm0 220h160v-160H400v160ZM180-400h160v-160H180v160Zm440 0h160v-160H620v160ZM180-180h160v-160H180v160Zm440 0h160v-160H620v160Z\"/>\n",
              "  </svg>\n",
              "    </button>\n",
              "\n",
              "  <style>\n",
              "    .colab-df-container {\n",
              "      display:flex;\n",
              "      gap: 12px;\n",
              "    }\n",
              "\n",
              "    .colab-df-convert {\n",
              "      background-color: #E8F0FE;\n",
              "      border: none;\n",
              "      border-radius: 50%;\n",
              "      cursor: pointer;\n",
              "      display: none;\n",
              "      fill: #1967D2;\n",
              "      height: 32px;\n",
              "      padding: 0 0 0 0;\n",
              "      width: 32px;\n",
              "    }\n",
              "\n",
              "    .colab-df-convert:hover {\n",
              "      background-color: #E2EBFA;\n",
              "      box-shadow: 0px 1px 2px rgba(60, 64, 67, 0.3), 0px 1px 3px 1px rgba(60, 64, 67, 0.15);\n",
              "      fill: #174EA6;\n",
              "    }\n",
              "\n",
              "    .colab-df-buttons div {\n",
              "      margin-bottom: 4px;\n",
              "    }\n",
              "\n",
              "    [theme=dark] .colab-df-convert {\n",
              "      background-color: #3B4455;\n",
              "      fill: #D2E3FC;\n",
              "    }\n",
              "\n",
              "    [theme=dark] .colab-df-convert:hover {\n",
              "      background-color: #434B5C;\n",
              "      box-shadow: 0px 1px 3px 1px rgba(0, 0, 0, 0.15);\n",
              "      filter: drop-shadow(0px 1px 2px rgba(0, 0, 0, 0.3));\n",
              "      fill: #FFFFFF;\n",
              "    }\n",
              "  </style>\n",
              "\n",
              "    <script>\n",
              "      const buttonEl =\n",
              "        document.querySelector('#df-fb465669-6e80-45cf-9c73-83bd42b8811c button.colab-df-convert');\n",
              "      buttonEl.style.display =\n",
              "        google.colab.kernel.accessAllowed ? 'block' : 'none';\n",
              "\n",
              "      async function convertToInteractive(key) {\n",
              "        const element = document.querySelector('#df-fb465669-6e80-45cf-9c73-83bd42b8811c');\n",
              "        const dataTable =\n",
              "          await google.colab.kernel.invokeFunction('convertToInteractive',\n",
              "                                                    [key], {});\n",
              "        if (!dataTable) return;\n",
              "\n",
              "        const docLinkHtml = 'Like what you see? Visit the ' +\n",
              "          '<a target=\"_blank\" href=https://colab.research.google.com/notebooks/data_table.ipynb>data table notebook</a>'\n",
              "          + ' to learn more about interactive tables.';\n",
              "        element.innerHTML = '';\n",
              "        dataTable['output_type'] = 'display_data';\n",
              "        await google.colab.output.renderOutput(dataTable, element);\n",
              "        const docLink = document.createElement('div');\n",
              "        docLink.innerHTML = docLinkHtml;\n",
              "        element.appendChild(docLink);\n",
              "      }\n",
              "    </script>\n",
              "  </div>\n",
              "\n",
              "\n",
              "<div id=\"df-65f805db-ccdb-4863-bd0a-383660772b40\">\n",
              "  <button class=\"colab-df-quickchart\" onclick=\"quickchart('df-65f805db-ccdb-4863-bd0a-383660772b40')\"\n",
              "            title=\"Suggest charts\"\n",
              "            style=\"display:none;\">\n",
              "\n",
              "<svg xmlns=\"http://www.w3.org/2000/svg\" height=\"24px\"viewBox=\"0 0 24 24\"\n",
              "     width=\"24px\">\n",
              "    <g>\n",
              "        <path d=\"M19 3H5c-1.1 0-2 .9-2 2v14c0 1.1.9 2 2 2h14c1.1 0 2-.9 2-2V5c0-1.1-.9-2-2-2zM9 17H7v-7h2v7zm4 0h-2V7h2v10zm4 0h-2v-4h2v4z\"/>\n",
              "    </g>\n",
              "</svg>\n",
              "  </button>\n",
              "\n",
              "<style>\n",
              "  .colab-df-quickchart {\n",
              "      --bg-color: #E8F0FE;\n",
              "      --fill-color: #1967D2;\n",
              "      --hover-bg-color: #E2EBFA;\n",
              "      --hover-fill-color: #174EA6;\n",
              "      --disabled-fill-color: #AAA;\n",
              "      --disabled-bg-color: #DDD;\n",
              "  }\n",
              "\n",
              "  [theme=dark] .colab-df-quickchart {\n",
              "      --bg-color: #3B4455;\n",
              "      --fill-color: #D2E3FC;\n",
              "      --hover-bg-color: #434B5C;\n",
              "      --hover-fill-color: #FFFFFF;\n",
              "      --disabled-bg-color: #3B4455;\n",
              "      --disabled-fill-color: #666;\n",
              "  }\n",
              "\n",
              "  .colab-df-quickchart {\n",
              "    background-color: var(--bg-color);\n",
              "    border: none;\n",
              "    border-radius: 50%;\n",
              "    cursor: pointer;\n",
              "    display: none;\n",
              "    fill: var(--fill-color);\n",
              "    height: 32px;\n",
              "    padding: 0;\n",
              "    width: 32px;\n",
              "  }\n",
              "\n",
              "  .colab-df-quickchart:hover {\n",
              "    background-color: var(--hover-bg-color);\n",
              "    box-shadow: 0 1px 2px rgba(60, 64, 67, 0.3), 0 1px 3px 1px rgba(60, 64, 67, 0.15);\n",
              "    fill: var(--button-hover-fill-color);\n",
              "  }\n",
              "\n",
              "  .colab-df-quickchart-complete:disabled,\n",
              "  .colab-df-quickchart-complete:disabled:hover {\n",
              "    background-color: var(--disabled-bg-color);\n",
              "    fill: var(--disabled-fill-color);\n",
              "    box-shadow: none;\n",
              "  }\n",
              "\n",
              "  .colab-df-spinner {\n",
              "    border: 2px solid var(--fill-color);\n",
              "    border-color: transparent;\n",
              "    border-bottom-color: var(--fill-color);\n",
              "    animation:\n",
              "      spin 1s steps(1) infinite;\n",
              "  }\n",
              "\n",
              "  @keyframes spin {\n",
              "    0% {\n",
              "      border-color: transparent;\n",
              "      border-bottom-color: var(--fill-color);\n",
              "      border-left-color: var(--fill-color);\n",
              "    }\n",
              "    20% {\n",
              "      border-color: transparent;\n",
              "      border-left-color: var(--fill-color);\n",
              "      border-top-color: var(--fill-color);\n",
              "    }\n",
              "    30% {\n",
              "      border-color: transparent;\n",
              "      border-left-color: var(--fill-color);\n",
              "      border-top-color: var(--fill-color);\n",
              "      border-right-color: var(--fill-color);\n",
              "    }\n",
              "    40% {\n",
              "      border-color: transparent;\n",
              "      border-right-color: var(--fill-color);\n",
              "      border-top-color: var(--fill-color);\n",
              "    }\n",
              "    60% {\n",
              "      border-color: transparent;\n",
              "      border-right-color: var(--fill-color);\n",
              "    }\n",
              "    80% {\n",
              "      border-color: transparent;\n",
              "      border-right-color: var(--fill-color);\n",
              "      border-bottom-color: var(--fill-color);\n",
              "    }\n",
              "    90% {\n",
              "      border-color: transparent;\n",
              "      border-bottom-color: var(--fill-color);\n",
              "    }\n",
              "  }\n",
              "</style>\n",
              "\n",
              "  <script>\n",
              "    async function quickchart(key) {\n",
              "      const quickchartButtonEl =\n",
              "        document.querySelector('#' + key + ' button');\n",
              "      quickchartButtonEl.disabled = true;  // To prevent multiple clicks.\n",
              "      quickchartButtonEl.classList.add('colab-df-spinner');\n",
              "      try {\n",
              "        const charts = await google.colab.kernel.invokeFunction(\n",
              "            'suggestCharts', [key], {});\n",
              "      } catch (error) {\n",
              "        console.error('Error during call to suggestCharts:', error);\n",
              "      }\n",
              "      quickchartButtonEl.classList.remove('colab-df-spinner');\n",
              "      quickchartButtonEl.classList.add('colab-df-quickchart-complete');\n",
              "    }\n",
              "    (() => {\n",
              "      let quickchartButtonEl =\n",
              "        document.querySelector('#df-65f805db-ccdb-4863-bd0a-383660772b40 button');\n",
              "      quickchartButtonEl.style.display =\n",
              "        google.colab.kernel.accessAllowed ? 'block' : 'none';\n",
              "    })();\n",
              "  </script>\n",
              "</div>\n",
              "\n",
              "  <div id=\"id_b03a19ce-684a-4297-81c9-9415ad8254dc\">\n",
              "    <style>\n",
              "      .colab-df-generate {\n",
              "        background-color: #E8F0FE;\n",
              "        border: none;\n",
              "        border-radius: 50%;\n",
              "        cursor: pointer;\n",
              "        display: none;\n",
              "        fill: #1967D2;\n",
              "        height: 32px;\n",
              "        padding: 0 0 0 0;\n",
              "        width: 32px;\n",
              "      }\n",
              "\n",
              "      .colab-df-generate:hover {\n",
              "        background-color: #E2EBFA;\n",
              "        box-shadow: 0px 1px 2px rgba(60, 64, 67, 0.3), 0px 1px 3px 1px rgba(60, 64, 67, 0.15);\n",
              "        fill: #174EA6;\n",
              "      }\n",
              "\n",
              "      [theme=dark] .colab-df-generate {\n",
              "        background-color: #3B4455;\n",
              "        fill: #D2E3FC;\n",
              "      }\n",
              "\n",
              "      [theme=dark] .colab-df-generate:hover {\n",
              "        background-color: #434B5C;\n",
              "        box-shadow: 0px 1px 3px 1px rgba(0, 0, 0, 0.15);\n",
              "        filter: drop-shadow(0px 1px 2px rgba(0, 0, 0, 0.3));\n",
              "        fill: #FFFFFF;\n",
              "      }\n",
              "    </style>\n",
              "    <button class=\"colab-df-generate\" onclick=\"generateWithVariable('df')\"\n",
              "            title=\"Generate code using this dataframe.\"\n",
              "            style=\"display:none;\">\n",
              "\n",
              "  <svg xmlns=\"http://www.w3.org/2000/svg\" height=\"24px\"viewBox=\"0 0 24 24\"\n",
              "       width=\"24px\">\n",
              "    <path d=\"M7,19H8.4L18.45,9,17,7.55,7,17.6ZM5,21V16.75L18.45,3.32a2,2,0,0,1,2.83,0l1.4,1.43a1.91,1.91,0,0,1,.58,1.4,1.91,1.91,0,0,1-.58,1.4L9.25,21ZM18.45,9,17,7.55Zm-12,3A5.31,5.31,0,0,0,4.9,8.1,5.31,5.31,0,0,0,1,6.5,5.31,5.31,0,0,0,4.9,4.9,5.31,5.31,0,0,0,6.5,1,5.31,5.31,0,0,0,8.1,4.9,5.31,5.31,0,0,0,12,6.5,5.46,5.46,0,0,0,6.5,12Z\"/>\n",
              "  </svg>\n",
              "    </button>\n",
              "    <script>\n",
              "      (() => {\n",
              "      const buttonEl =\n",
              "        document.querySelector('#id_b03a19ce-684a-4297-81c9-9415ad8254dc button.colab-df-generate');\n",
              "      buttonEl.style.display =\n",
              "        google.colab.kernel.accessAllowed ? 'block' : 'none';\n",
              "\n",
              "      buttonEl.onclick = () => {\n",
              "        google.colab.notebook.generateWithVariable('df');\n",
              "      }\n",
              "      })();\n",
              "    </script>\n",
              "  </div>\n",
              "\n",
              "    </div>\n",
              "  </div>\n"
            ],
            "application/vnd.google.colaboratory.intrinsic+json": {
              "type": "dataframe",
              "variable_name": "df",
              "summary": "{\n  \"name\": \"df\",\n  \"rows\": 962,\n  \"fields\": [\n    {\n      \"column\": \"Category\",\n      \"properties\": {\n        \"dtype\": \"number\",\n        \"std\": 7,\n        \"min\": 0,\n        \"max\": 24,\n        \"num_unique_values\": 25,\n        \"samples\": [\n          5,\n          8,\n          6\n        ],\n        \"semantic_type\": \"\",\n        \"description\": \"\"\n      }\n    },\n    {\n      \"column\": \"Resume\",\n      \"properties\": {\n        \"dtype\": \"category\",\n        \"num_unique_values\": 166,\n        \"samples\": [\n          \"KEY COMPETENCIES Multi  Operations ManagementPeople Management Customer Services  Emails  MIS Vendor  Client Services ManagementCross Functional CoordinationBanking  Financial Services Transaction Monitoring  ATM Operations   Prepaid Card Operations PreIssuance  PostIssuance  POS Operations  JOB PROFILE  SKILLS  An effective communicator with excellent relationship building  interpersonal skills Strong analytical, problem solving  organizational abilities  Extensive experience in managing operations with demonstrated leadership qualities  organisational skills during the tenure  Managing customer centric operations  ensuring customer satisfaction by achieving service quality norms  Analyzing of all operational problems, customer complaints and take preventive and corrective actions to resolve the same  Receive and respond to Key customer inquiries in an effective manner and provide relevant and timely information  Deft in steering banking backend operations, analyzing risks and managing delinquencies with dexterity across applying techniques for maximizing recoveries and minimizing credit losses  Analyzed  identified training needs of the team members and developing, organizing and conducting training programs and manage bottom quartile team to improve their performance  Preparing and maintaining daily MIS reports to evaluate the performance and efficiency of the process relate to various verticals  Measuring the performance of the processes in terms of efficiency and effectiveness matrix and ensuring adherence to SLA  Major Activities Define processes for Field Services were monitored and necessary checks were executed and controlled Also measured Vendor SLA by analyzing the TAT of vendors  the Client SLA provided to us  As per company procedures, handling  ensuring vendors payment issues to be sorted out payments are processed on quarterly basis  Appropriately plan and execute each skill of operations in accordance with the departments policies and procedures  Manage relationships with business team, software development team and other services to achieve project objectives Different software Worked till now  a CTL prime  Axis Bank Credit Cards b Insight  For POS Machine technical operations for Amex MID  TID Generation ATOS Venture Infotek c Ticket Management System  TATA Communications Private Services Ltd ATM  NOC Operations d Branch Portal Yalamanchili Software Exports Ltd  Prepaid Cards SBI Bank  Zaggle Prepaid Oceans Services Ltd Zaggle Prepaid Ocean Services Pvt Ltd Oct, 2017 to Till Date Designation Manager  Operations Payment Industry  Prepaid Cards  INR Education Details   Commerce Mumbai, Maharashtra Mumbai UniversityOperations Manager Service Manager  Operations Payment Industry  Prepaid Cards  INR  FTCSkill Details OPERATIONS Exprience  73 monthsSATISFACTION Exprience  48 monthsTRAINING Exprience  24 monthsNOC Exprience  23 monthsPOINT OF SALE Exprience  20 monthsCompany Details company  Zaggle Prepaid Ocean Services Pvt Ltddescription  Card Operationscompany  Yalamanchili Software Exports Ltddescription  247 Operations Pvt Ltd Dec 2015 to Feb 2017Designation Service Manager  Operations Payment Industry  Prepaid Cards  INR  FTCKey Contributions  A resultoriented business professional in planning, executing managing processes, improving efficiency of operations, team building and detailing process information to determine effective result into operations Ensuring PINs generation SLA is maintained and chargeback cases are raised in perfect timeframe Managing email customer services properly and ensuring the emails are replied properly Also, ensuring transaction monitoring is properly managed 24/7 Assisting Bankers SBI  Associated Banks for their BCP plans by getting executed in the system with the help of DRPR plans  vice versa or any other business requirements Expertise in maintaining highest level of quality in operations ensuring adherence to all the quality parameters and procedures as per the stringent norms Lead, manage and supervise the execution of external audit engagements and responsible for presenting the findings  developing a quality reports to the senior Management and Clients Coach/mentor 20 team members to perform at a higher level by giving opportunities, providing timely continuous feedback and working with staff to improve their communication, time management, decision making, organization, and analytical skills Providing the solutions and services to the client in their own premises with aforesaid count of team members Also ensuring end to end process of PR  DR as per client requirements PR DR  DR PR by interacting with internal  external stakeholders Determining process gaps and designing  conducting training programs to enhance operational efficiency and retain talent by providing optimum opportunities for personal and professional growthcompany  Credit Cardsdescription  Ensured highest standard of customer satisfaction and quality service developing new policies and procedures to improve based on customer feedback and resolving customer queries via correspondence, inbound calls  email channels with the strength of 1216 Team memberscompany  AGS Transact Technologies Limiteddescription  Key Contributions Lead  SPOC to Bankscompany  TATA Communications Payment Solutions Ltddescription  To make ATMs operational within TAT by analyzing the issue is technical or nontechnical and also by interacting with internal  external stakeholderscompany  Vertex Customer Solutions India Private Ltddescription  Key Contributions  Build positive working relationship with all team members and clients by keeping Management informed   of KYC document collection  concurrent audit progress, responding timely to Management inquiries, understanding the business and conducting self professionallycompany  Financial Inclusion Network  Operations Limiteddescription  Key Contributions POSOperations  Cascading the adherence of process is strictly followed by team members  training them to reduce the downtime Managing Stock of EDC Terminals  Managing Deployments of terminals through Multiple teams  Would have worked with multiple terminal make  model  Managing Inward, Outward  QC of applications installed in the POS machinescompany  Venture Infotek Private Ltddescription  Key Contributions POSOperationscompany  Axis Bank Ltd  Customer Servicesdescription  Aug 2006 to Oct 2009 MaFoiI smartDesignation Team Leader/Executive  Emails, Phone Banking  Correspondence Unit Snail Mails\",\n          \"Skill Set Hadoop, Map Reduce, HDFS, Hive, Sqoop, java Duration 2016 to 2017 Role Hadoop Developer Rplus offers an quick, simple and powerful cloud based Solution, Demand Sense to accurately predict demand for your product in all your markets which Combines Enterprise and External Data to predict demand more accurately through Uses Social Conversation and Sentiments to derive demand and Identifies significant drivers of sale out of hordes of factors that Selects the best suited model out of multiple forecasting models for each product Responsibilities  Involved in deploying the product for customers, gathering requirements and algorithm optimization at backend of the product  Load and transform Large Datasets of structured semi structured  Responsible to manage data coming from different sources and application  Supported Map Reduce Programs those are running on the cluster  Involved in creating Hive tables, loading with data and writing hive queries which will run internally in map reduce wayEducation Details Hadoop Developer Hadoop Developer  BraindatawireSkill Details APACHE HADOOP HDFS Exprience  49 monthsAPACHE HADOOP SQOOP Exprience  49 monthsHadoop Exprience  49 monthsHADOOP Exprience  49 monthsHADOOP DISTRIBUTED FILE SYSTEM Exprience  49 monthsCompany Details company  Braindatawiredescription  Technical Skills   Programming Core Java, Map Reduce, Scala   Hadoop Tools HDFS, Spark, Map Reduce, Sqoop, Hive, Hbase   Database MySQL, Oracle   Scripting Shell Scripting   IDE Eclipse   Operating Systems Linux CentOS, Windows   Source Control Git Github\",\n          \"IT Skills Area Exposure Modeling Tool Bizagi, MS Visio Prototyping Tool Indigo Studio Documentation MS Office MS Word, MS Excel, MS Power Point Testing Proficiency Smoke, Sanity, Integration, Functional, Acceptance and UI Methodology implemented Waterfall, Agile Scrum Database SQL Testing Tool HPQC Business Exposure Education Details  Bachelor Of Computer Engineering Computer Engineering Mumbai, Maharashtra Thadomal Shahani Engineering college Diploma Computer Engineering Ulhasnagar, Maharashtra Institute of Technology Secondary School Certificate  Ulhasnagar, Maharashtra New English High SchoolSenior Business Analyst  RPA Senior Business Analyst  RPA  Hexaware TechnologiesSkill Details DOCUMENTATION Exprience  47 monthsTESTING Exprience  29 monthsINTEGRATION Exprience  25 monthsINTEGRATOR Exprience  25 monthsPROTOTYPE Exprience  13 monthsCompany Details company  Hexaware Technologiesdescription  Working as a RPA Business Analystcompany  BBH Brown Brothers Harriman  Codescription  is a private bank that provides commercial banking, investment management, brokerage, and trust services to private companies and individuals It also performs merger advisory, foreign exchange, custody services, commercial banking, and corporate financing servicesResponsibilities  Performed Automation Assessment of various Processes and identified processes which can be candidates of RPA Conducting Assessment that involves an initial Understanding of the Existing System, their technology, processes, Usage of the tools, Feasibility of tool with automation tool along with automation ROI analysis Preparing the Automation Potential Sheet which describes the steps in the process, the volume and frequency of the transaction, the AHT taken by SME to perform the process and depending on the steps that could be automated, Automation potential and the manual efforts that will be saved are calculatedCalculating the complexity of the Process which is considered for automation and depending on all these factors Number of Bots and Number of Automation tool Licenses are determined Implementing a Proof of Concept POC to Validate Feasibility by executing the selected critical use cases for conducting a POC which will helps to identify financial and operational benefits and provide recommendations regarding the actual need for complete automation Gathering business requirements by conducting detailed interviews with business users, stakeholders, and Subject Matter Experts SMEs  Preparing Business Requirement Document and then converted Business requirements into Functional Requirements Specification  Constructing prototype early toward a design acceptable to the customer and feasible Assisting in designing test plans, test scenarios and test cases for integration, regression, and user acceptance testing UAT to improve the overall quality of the Automation Participating regularly in Walkthroughs and Review meetings with Project Manager, QA Engineers, and Development team Regularly interacting with offshore and onshore development teamscompany  FADV  First Advantagedescription  is a criminal background check company that delivers global solutions ranging from employment screenings to background checksThe following are the processes which were coveredEmail Process, Research Process, Review ProcessResponsibilities  Requirement Gathering through conducting Interviews  Brainstorming sessions with stakeholders  To develop decision models and execute those rules as per the use case specifications To Test/validate the decision models against document test data To maintain and enhance the decision models for changes in regulations as per use case specifications Responsible for performing the business research that will make a business growth Developing a clear understanding of existing business functions and processes Effectively communicate with the onsite clients for the queries, suggestions, and update Giving suggestions to enhance the current processes Identifying areas for process improvement Flagging up potential problems at an early stage Preparing PowerPoint presentations and documents for business meetings Using any information gathered to write up detailed reports Highlighting risks and issues that could impact project delivery Able to work accurately To develop and maintain documentation for internal team training and client end user operations To work efficiently with team members and across teams To mentor and train junior team memberscompany  Clinical Testing, Lab Work and Diagnostic Testingdescription  IQVIA provides services to its customers this includes Clinical Testing, Lab Work and Diagnostic Testing under clinical trial These customers need to pay to IQVIA and aging details and invoices are generated for the sameThe following are the processes which were coveredTracking Payments, Automated Real Time Metrics Reporting Dashboard, Past Due Notifications, AR Statements, Credit/RebillResponsibilities  Conducting meetings with clients and key stakeholders to gather requirements, analyze, finalize and have formal signoffs from approvers Gather and perform analysis of the business requirements  Translating the business requirements into the Business Requirement Document BRD, Functional Requirement Document FRD Facilitating meetings with the appropriate subject matter experts in both business and technology teams  Coordinating with business user community for the execution of user acceptance test as well as tracking issues  Working, collaborating and coordinating with Offshore and Onsite team members to fulfill the BA responsibilities from project initiation to PostImplementation  Reviewing the test scripts with business users as well as technology team Execute test scripts with expected results for the System Integration Test SIT and User Acceptance Test UAT  Coordinating and conducting the Production Acceptance Testing PAT with the business users  Creating flow diagrams, structure charts, and other types of system or process representations  Managing changes to requirements and baseline through a change control process  Utilizing standard methods, design and testing tools throughout project development life cycle  Work closely with the operational functional teams, operations management, and personnel, and various technology teams to facilitate a shared understanding of requirements and priorities across all areascompany  Eduavenir IT Solutiondescription  Project MBMSMBMS  is an Inventory management application that allows user to manage inventory details of different warehouses, having different products located at various locations and help extract what goods have been procured, sold or returned by customers It generates automated invoicesalong withcustomized reports It also managescustomer complaint and resolution system implementation along with automated MIS on monthly basisSales and forecastingis also developed on MIS System and the streamlining of process of warehousing and dispatch along with online proof of delivery management system POD documentation is generatedResponsibilities  Participate in requirement gathering discussion with client to understand the flow of business processes  Analyze the requirements and determine the core processes, develop Process Documentation and ensure to stay uptodate in conjunction with ongoing changes  Participate in process flow analysis and preparing BRD, SRS Coordinating with developers, designers  operations teams for various nuances of the project, communicate the stakeholder requirements from requirement /enhancement to implementation and finally deliver the same within estimated timeframe Support UAT by reviewing test cases, manage version control of documents, software builds Coordinate with the stakeholders for UAT sign off and coordinate internally for production movement till Golive stage of the application Provide demo and training to internal and end user using PowerPoint presentation Resolving project functional technical issues during UAT Prioritizing the Production bugs and resolving the same within the estimated timeframe Preparing Project Status Report and Production Bugs Status to all the stakeholders Promoting and Networking for online trading platform Designing query sheet for obtaining and comparison of quotes from various vendors Development of product codes / material codes for inventory management Master Data Managementcompany  CAPGEMINI Head Officedescription  Type Mobile and Device Testing       Duration January 2014  August 2014Follet  An application which takes an electronic request from the user for the books he requires from a particular follet store This detailed information about books that will include the name of the book, its price, the date of the transaction and the parties involved which will then be sent to follet stores User then create request for one or more books for a given date This request is then processed further and user gets a mail of the date when he will be provided with that bookResponsibilities  Understanding the needs and business requirements Preparing BRD, SRS by eliciting all the requirements from the client and SMEs  Understanding the dependency of the modules in the system  Preparation of test plan for Unit level and Integration level Preparation and execution of test cases Defect tracking, Issue Resolution, Risk Monitoring, Status Tracking, Reporting and Followup Preparation of Test Completion reportcompany  CAPGEMINI Head Officedescription  company  CAPGEMINI Head Officedescription  Humana is a health care insurance project of US which deals with supplying various medicines to citizens as per the doctors reference and patients insurance policy This application keeps track of all the medicines user has consumed in the past and generates a patient history A citizen is given a drug only after the doctors reference so the doctors information is also linked with the patients historyResponsibilities  Understanding the requirements and getting clarifications from client Involved in writing test cases based on test scenarios and execute them Ensuring Test Coverage using Requirement Traceability Matrix RTM  Preparation of Test Completion reportcompany  CAPGEMINI Head Officedescription  Testing Trends WQR World Quality Report is an application which allows the users to take a survey on different methods and technologies used for testing Users can choose to answer any type of questions under three different categories Users have a facility to search, view and export the data to excel Also, users get daily and weekly reports through email about the new trends in testing implemented around the globe Testing Trends WQR app is available on Android and IOS platformsResponsibilities  Understanding the requirements and getting clarifications from client Writing test cases based on test scenarios and executed them Performing different types of testing such as Functional, Integration, System, and UAT Defect resolution and maintenance of the application\"\n        ],\n        \"semantic_type\": \"\",\n        \"description\": \"\"\n      }\n    }\n  ]\n}"
            }
          },
          "metadata": {},
          "execution_count": 34
        }
      ]
    },
    {
      "cell_type": "code",
      "source": [
        "requiredtext"
      ],
      "metadata": {
        "id": "qMHafhMGzG3B",
        "outputId": "9bd79b75-7bdb-4b36-c8c7-01f565d16578",
        "colab": {
          "base_uri": "https://localhost:8080/"
        }
      },
      "execution_count": null,
      "outputs": [
        {
          "output_type": "execute_result",
          "data": {
            "text/plain": [
              "<962x9599 sparse matrix of type '<class 'numpy.float64'>'\n",
              "\twith 170632 stored elements in Compressed Sparse Row format>"
            ]
          },
          "metadata": {},
          "execution_count": 35
        }
      ]
    },
    {
      "cell_type": "code",
      "source": [
        "from sklearn.model_selection import train_test_split"
      ],
      "metadata": {
        "id": "h7Ea5mzezjz5"
      },
      "execution_count": null,
      "outputs": []
    },
    {
      "cell_type": "code",
      "source": [
        "X=requiredtext"
      ],
      "metadata": {
        "id": "uTlvB2tdz8hw"
      },
      "execution_count": null,
      "outputs": []
    },
    {
      "cell_type": "code",
      "source": [
        "Y= df['Category']"
      ],
      "metadata": {
        "id": "b7A3C_EH0AYL"
      },
      "execution_count": null,
      "outputs": []
    },
    {
      "cell_type": "code",
      "source": [
        "X_train, X_test, Y_train, Y_test = train_test_split(X, Y, train_size = 0.75, random_state = 42)"
      ],
      "metadata": {
        "id": "7K2mB6dezk0V"
      },
      "execution_count": null,
      "outputs": []
    },
    {
      "cell_type": "code",
      "source": [
        "X_train.shape"
      ],
      "metadata": {
        "id": "H9lpGT660W72",
        "outputId": "bca2f264-ef5a-4a07-e097-6ae9ec199781",
        "colab": {
          "base_uri": "https://localhost:8080/"
        }
      },
      "execution_count": null,
      "outputs": [
        {
          "output_type": "execute_result",
          "data": {
            "text/plain": [
              "(721, 9599)"
            ]
          },
          "metadata": {},
          "execution_count": 40
        }
      ]
    },
    {
      "cell_type": "code",
      "source": [
        "X_test.shape"
      ],
      "metadata": {
        "id": "ejsn4bW_0W0w",
        "outputId": "1f7a5d81-9f1c-4b74-bded-6135ac996da9",
        "colab": {
          "base_uri": "https://localhost:8080/"
        }
      },
      "execution_count": null,
      "outputs": [
        {
          "output_type": "execute_result",
          "data": {
            "text/plain": [
              "(241, 9599)"
            ]
          },
          "metadata": {},
          "execution_count": 41
        }
      ]
    },
    {
      "cell_type": "code",
      "source": [
        "print(X_train.shape)\n",
        "print(X_test.shape)\n",
        "print(Y_train.shape)\n",
        "print(Y_test.shape)"
      ],
      "metadata": {
        "id": "Qg5k3uhr0Wpl",
        "outputId": "7aea458c-fb0f-41c6-f3e4-89f8cbe2a3c1",
        "colab": {
          "base_uri": "https://localhost:8080/"
        }
      },
      "execution_count": null,
      "outputs": [
        {
          "output_type": "stream",
          "name": "stdout",
          "text": [
            "(721, 9599)\n",
            "(241, 9599)\n",
            "(721,)\n",
            "(241,)\n"
          ]
        }
      ]
    },
    {
      "cell_type": "code",
      "source": [
        "from sklearn.neighbors import KNeighborsClassifier"
      ],
      "metadata": {
        "id": "dMi7xA1F0zBb"
      },
      "execution_count": null,
      "outputs": []
    },
    {
      "cell_type": "code",
      "source": [
        "#from sklearn.multiclass import OneVsRestClassifier"
      ],
      "metadata": {
        "id": "jEuAex1k2c9Y"
      },
      "execution_count": null,
      "outputs": []
    },
    {
      "cell_type": "code",
      "source": [
        "Model1 = KNeighborsClassifier()"
      ],
      "metadata": {
        "id": "S0T2e-oY1Rx-"
      },
      "execution_count": null,
      "outputs": []
    },
    {
      "cell_type": "code",
      "source": [
        "Model1.fit(X_train,Y_train)"
      ],
      "metadata": {
        "id": "To4SYM-G1XeI",
        "outputId": "9f664f2f-5eeb-4628-b772-95c98b6d8a4a",
        "colab": {
          "base_uri": "https://localhost:8080/",
          "height": 74
        }
      },
      "execution_count": null,
      "outputs": [
        {
          "output_type": "execute_result",
          "data": {
            "text/plain": [
              "KNeighborsClassifier()"
            ],
            "text/html": [
              "<style>#sk-container-id-1 {color: black;background-color: white;}#sk-container-id-1 pre{padding: 0;}#sk-container-id-1 div.sk-toggleable {background-color: white;}#sk-container-id-1 label.sk-toggleable__label {cursor: pointer;display: block;width: 100%;margin-bottom: 0;padding: 0.3em;box-sizing: border-box;text-align: center;}#sk-container-id-1 label.sk-toggleable__label-arrow:before {content: \"▸\";float: left;margin-right: 0.25em;color: #696969;}#sk-container-id-1 label.sk-toggleable__label-arrow:hover:before {color: black;}#sk-container-id-1 div.sk-estimator:hover label.sk-toggleable__label-arrow:before {color: black;}#sk-container-id-1 div.sk-toggleable__content {max-height: 0;max-width: 0;overflow: hidden;text-align: left;background-color: #f0f8ff;}#sk-container-id-1 div.sk-toggleable__content pre {margin: 0.2em;color: black;border-radius: 0.25em;background-color: #f0f8ff;}#sk-container-id-1 input.sk-toggleable__control:checked~div.sk-toggleable__content {max-height: 200px;max-width: 100%;overflow: auto;}#sk-container-id-1 input.sk-toggleable__control:checked~label.sk-toggleable__label-arrow:before {content: \"▾\";}#sk-container-id-1 div.sk-estimator input.sk-toggleable__control:checked~label.sk-toggleable__label {background-color: #d4ebff;}#sk-container-id-1 div.sk-label input.sk-toggleable__control:checked~label.sk-toggleable__label {background-color: #d4ebff;}#sk-container-id-1 input.sk-hidden--visually {border: 0;clip: rect(1px 1px 1px 1px);clip: rect(1px, 1px, 1px, 1px);height: 1px;margin: -1px;overflow: hidden;padding: 0;position: absolute;width: 1px;}#sk-container-id-1 div.sk-estimator {font-family: monospace;background-color: #f0f8ff;border: 1px dotted black;border-radius: 0.25em;box-sizing: border-box;margin-bottom: 0.5em;}#sk-container-id-1 div.sk-estimator:hover {background-color: #d4ebff;}#sk-container-id-1 div.sk-parallel-item::after {content: \"\";width: 100%;border-bottom: 1px solid gray;flex-grow: 1;}#sk-container-id-1 div.sk-label:hover label.sk-toggleable__label {background-color: #d4ebff;}#sk-container-id-1 div.sk-serial::before {content: \"\";position: absolute;border-left: 1px solid gray;box-sizing: border-box;top: 0;bottom: 0;left: 50%;z-index: 0;}#sk-container-id-1 div.sk-serial {display: flex;flex-direction: column;align-items: center;background-color: white;padding-right: 0.2em;padding-left: 0.2em;position: relative;}#sk-container-id-1 div.sk-item {position: relative;z-index: 1;}#sk-container-id-1 div.sk-parallel {display: flex;align-items: stretch;justify-content: center;background-color: white;position: relative;}#sk-container-id-1 div.sk-item::before, #sk-container-id-1 div.sk-parallel-item::before {content: \"\";position: absolute;border-left: 1px solid gray;box-sizing: border-box;top: 0;bottom: 0;left: 50%;z-index: -1;}#sk-container-id-1 div.sk-parallel-item {display: flex;flex-direction: column;z-index: 1;position: relative;background-color: white;}#sk-container-id-1 div.sk-parallel-item:first-child::after {align-self: flex-end;width: 50%;}#sk-container-id-1 div.sk-parallel-item:last-child::after {align-self: flex-start;width: 50%;}#sk-container-id-1 div.sk-parallel-item:only-child::after {width: 0;}#sk-container-id-1 div.sk-dashed-wrapped {border: 1px dashed gray;margin: 0 0.4em 0.5em 0.4em;box-sizing: border-box;padding-bottom: 0.4em;background-color: white;}#sk-container-id-1 div.sk-label label {font-family: monospace;font-weight: bold;display: inline-block;line-height: 1.2em;}#sk-container-id-1 div.sk-label-container {text-align: center;}#sk-container-id-1 div.sk-container {/* jupyter's `normalize.less` sets `[hidden] { display: none; }` but bootstrap.min.css set `[hidden] { display: none !important; }` so we also need the `!important` here to be able to override the default hidden behavior on the sphinx rendered scikit-learn.org. See: https://github.com/scikit-learn/scikit-learn/issues/21755 */display: inline-block !important;position: relative;}#sk-container-id-1 div.sk-text-repr-fallback {display: none;}</style><div id=\"sk-container-id-1\" class=\"sk-top-container\"><div class=\"sk-text-repr-fallback\"><pre>KNeighborsClassifier()</pre><b>In a Jupyter environment, please rerun this cell to show the HTML representation or trust the notebook. <br />On GitHub, the HTML representation is unable to render, please try loading this page with nbviewer.org.</b></div><div class=\"sk-container\" hidden><div class=\"sk-item\"><div class=\"sk-estimator sk-toggleable\"><input class=\"sk-toggleable__control sk-hidden--visually\" id=\"sk-estimator-id-1\" type=\"checkbox\" checked><label for=\"sk-estimator-id-1\" class=\"sk-toggleable__label sk-toggleable__label-arrow\">KNeighborsClassifier</label><div class=\"sk-toggleable__content\"><pre>KNeighborsClassifier()</pre></div></div></div></div></div>"
            ]
          },
          "metadata": {},
          "execution_count": 46
        }
      ]
    },
    {
      "cell_type": "code",
      "source": [
        "y_pred = Model1.predict(X_test)\n",
        "y_pred"
      ],
      "metadata": {
        "id": "ou8uegxc0Whq",
        "outputId": "60567aab-399f-4615-92a5-a420ffb34454",
        "colab": {
          "base_uri": "https://localhost:8080/"
        }
      },
      "execution_count": null,
      "outputs": [
        {
          "output_type": "execute_result",
          "data": {
            "text/plain": [
              "array([15, 15, 15, 13, 14, 17, 16,  2,  0, 14, 13, 12, 16, 23, 20,  5,  6,\n",
              "        4, 10,  9, 19,  1, 10, 23, 23, 21, 22, 22,  2,  1, 18,  1,  8, 24,\n",
              "       11, 23,  6,  1, 24,  8, 18,  6,  8, 19, 24, 23, 21,  1, 15,  4, 15,\n",
              "       22, 11,  5, 15, 13,  1, 19,  5, 12, 22, 22, 20, 24, 21, 18, 12, 10,\n",
              "       10, 20, 10,  8,  9, 21, 17, 21,  0, 17, 16, 14, 15, 11, 11,  8, 20,\n",
              "        3, 19,  8,  0,  2,  9, 10,  2, 23, 20, 20, 23, 12, 18, 12,  7, 16,\n",
              "        8, 14, 18,  3, 14, 19, 14, 14, 15, 18,  8,  2, 21, 18, 23, 10, 23,\n",
              "        5, 11, 15, 20,  3,  5,  3,  7, 12, 19,  8, 20, 19,  3, 15,  9, 19,\n",
              "        1, 23, 21,  5, 20, 15, 16,  7,  7,  8, 15, 18,  1, 15, 13, 20,  7,\n",
              "        4, 18, 11,  5, 15,  5, 12, 20, 22, 18, 21,  8, 23,  4, 12, 24, 16,\n",
              "       15, 22,  8, 22,  3, 16, 23, 23, 20,  7, 16, 18,  5,  3, 18,  8, 23,\n",
              "       23, 20, 21,  6,  7, 23,  2,  3, 18, 14,  1, 12, 13, 22, 20, 11, 23,\n",
              "       18, 15, 19, 15,  6,  0, 15,  8, 20, 16,  6, 12, 14,  9, 15,  4,  6,\n",
              "       20, 16,  7,  8, 23,  3, 23,  9,  6,  0,  6,  9, 14, 15, 20, 20,  3,\n",
              "        1, 15, 13])"
            ]
          },
          "metadata": {},
          "execution_count": 47
        }
      ]
    },
    {
      "cell_type": "code",
      "source": [
        "from sklearn.metrics import r2_score"
      ],
      "metadata": {
        "id": "67kFI7yV1td2"
      },
      "execution_count": null,
      "outputs": []
    },
    {
      "cell_type": "code",
      "source": [
        "from sklearn.metrics import accuracy_score"
      ],
      "metadata": {
        "id": "7El4UIRF3cGF"
      },
      "execution_count": null,
      "outputs": []
    },
    {
      "cell_type": "code",
      "source": [
        "print(r2_score(Y_test, y_pred))"
      ],
      "metadata": {
        "id": "Y7htu3-T2-zw",
        "outputId": "b76aefc2-94e3-45ad-d4db-09146ab6c5a1",
        "colab": {
          "base_uri": "https://localhost:8080/"
        }
      },
      "execution_count": null,
      "outputs": [
        {
          "output_type": "stream",
          "name": "stdout",
          "text": [
            "0.8640602650414984\n"
          ]
        }
      ]
    },
    {
      "cell_type": "code",
      "source": [
        "print(accuracy_score(Y_test, y_pred))"
      ],
      "metadata": {
        "id": "-_0eCkDz3hFy",
        "outputId": "3296e43f-4e0c-4ae2-ff16-94442ae8ae99",
        "colab": {
          "base_uri": "https://localhost:8080/"
        }
      },
      "execution_count": null,
      "outputs": [
        {
          "output_type": "stream",
          "name": "stdout",
          "text": [
            "0.941908713692946\n"
          ]
        }
      ]
    },
    {
      "cell_type": "code",
      "source": [
        "#Prediction system"
      ],
      "metadata": {
        "id": "LppTJ-TN3_ng"
      },
      "execution_count": null,
      "outputs": []
    },
    {
      "cell_type": "code",
      "source": [
        "import pickle"
      ],
      "metadata": {
        "id": "4A2gV4UE4Ct9"
      },
      "execution_count": null,
      "outputs": []
    },
    {
      "cell_type": "code",
      "source": [
        "pickle.dump(tfidf,open('tfidf.pkl','wb'))\n",
        "pickle.dump(Model1,open('Model1.pkl','wb'))"
      ],
      "metadata": {
        "id": "r2Huml4c4STl"
      },
      "execution_count": null,
      "outputs": []
    },
    {
      "cell_type": "code",
      "source": [
        "myresume = \"\"\"\n",
        "DEEPIKA.R\n",
        "Data Enthusiast | Machine Learning | Python Developer\n",
        "+971522556534\n",
        "deep.maha0706@gmail.com Dubai-UAE\n",
        "Data enthusiast with a Master's degree in Data Science and 2 years of experience.\n",
        "dvanced knowledge in machine learning and statistical analysis.\n",
        "Proven track record of designing and implementing data-driven solutions for business improvement.\n",
        " SKILLS\n",
        " Python,data analysis,DB2, SQL,\n",
        "MS EXCEL,Data Visualization,Data Modelling\n",
        "CERTIFICATIONS/TRAININGS\n",
        "Applied Data Science with Python\n",
        "EXPERIENCE\n",
        "Successfully analyzed large datasets to drive business strategies at Google\n",
        "Tackled data discrepancies at IBM, ensuring data accuracy and integrity\n",
        "worked seamlessly with team members to implement data solutions at Microsoft\n",
        "\"\"\"\n"
      ],
      "metadata": {
        "id": "Eiv483idOIWA"
      },
      "execution_count": null,
      "outputs": []
    },
    {
      "cell_type": "code",
      "source": [
        "import pickle\n",
        "#load the trained classifier\n",
        "Model1= pickle.load(open('Model1.pkl','rb'))\n",
        "cleaned_resume = cleanResume(myresume)\n"
      ],
      "metadata": {
        "id": "VI5nDHvd4SPa"
      },
      "execution_count": null,
      "outputs": []
    },
    {
      "cell_type": "code",
      "source": [
        "input_features=tfidf.transform([cleaned_resume])\n",
        "prediction_id=Model1.predict(input_features)[0]\n"
      ],
      "metadata": {
        "id": "HVneBMX7OQKY"
      },
      "execution_count": null,
      "outputs": []
    },
    {
      "cell_type": "code",
      "source": [
        "category_mapping={\n",
        "    6:\"Data Science\",\n",
        "    12:\"HR\",\n",
        "    0:\"Advocate\",\n",
        "    1:\"Arts\",\n",
        "    24:\"Web Designing\",\n",
        "    16:\"Mechanical Engineer\",\n",
        "    22:\"Sales\",\n",
        "    14:\"Health and fitness\",\n",
        "    5:\"Civil Engineer\",\n",
        "    15:\"Java Developer\",\n",
        "    4:\"Business Analyst\",\n",
        "    21:\"SAP Developer\",\n",
        "    2:\"Automation Testing\",\n",
        "    11:\"Electrical Engineering\",\n",
        "    18:\"Operations Manager\",\n",
        "    20:\"Python Developer\",\n",
        "    8:\"DevOps Engineer\",\n",
        "    17:\"Network Security Engineer\",\n",
        "    19:\"PMO\",\n",
        "    7:\"Database\",\n",
        "    13:\"Hadoop\",\n",
        "    10:\"ETL Developer\",\n",
        "    9:\"DotNet Developer\",\n",
        "    3:\"Blockchain\",\n",
        "    23:\"Testing\"\n",
        "}"
      ],
      "metadata": {
        "id": "VUXFnp66O4j8"
      },
      "execution_count": null,
      "outputs": []
    },
    {
      "cell_type": "code",
      "source": [
        "category_name=category_mapping.get(prediction_id,\"unknown\")\n",
        "print(\"predicted category\",category_name)"
      ],
      "metadata": {
        "id": "O-UK7g4zPviJ",
        "outputId": "fbda3fc9-8e22-4140-9af8-a1c9eef7c650",
        "colab": {
          "base_uri": "https://localhost:8080/"
        }
      },
      "execution_count": null,
      "outputs": [
        {
          "output_type": "stream",
          "name": "stdout",
          "text": [
            "predicted category Data Science\n"
          ]
        }
      ]
    },
    {
      "cell_type": "code",
      "source": [
        "print(prediction_id)"
      ],
      "metadata": {
        "id": "ViZ2NmCRs8Au",
        "outputId": "6c98be63-5124-468a-9d61-3c357d098afe",
        "colab": {
          "base_uri": "https://localhost:8080/"
        }
      },
      "execution_count": null,
      "outputs": [
        {
          "output_type": "stream",
          "name": "stdout",
          "text": [
            "6\n"
          ]
        }
      ]
    },
    {
      "cell_type": "markdown",
      "source": [],
      "metadata": {
        "id": "7KKW8p-SvsxN"
      }
    },
    {
      "cell_type": "code",
      "source": [
        "from google.colab import files\n",
        "files.download('tfidf.pkl')"
      ],
      "metadata": {
        "id": "Gp4wY6GmysUY",
        "outputId": "6baf2a18-8d21-4ccb-87ac-bc0b37b7bd31",
        "colab": {
          "base_uri": "https://localhost:8080/",
          "height": 17
        }
      },
      "execution_count": null,
      "outputs": [
        {
          "output_type": "display_data",
          "data": {
            "text/plain": [
              "<IPython.core.display.Javascript object>"
            ],
            "application/javascript": [
              "\n",
              "    async function download(id, filename, size) {\n",
              "      if (!google.colab.kernel.accessAllowed) {\n",
              "        return;\n",
              "      }\n",
              "      const div = document.createElement('div');\n",
              "      const label = document.createElement('label');\n",
              "      label.textContent = `Downloading \"${filename}\": `;\n",
              "      div.appendChild(label);\n",
              "      const progress = document.createElement('progress');\n",
              "      progress.max = size;\n",
              "      div.appendChild(progress);\n",
              "      document.body.appendChild(div);\n",
              "\n",
              "      const buffers = [];\n",
              "      let downloaded = 0;\n",
              "\n",
              "      const channel = await google.colab.kernel.comms.open(id);\n",
              "      // Send a message to notify the kernel that we're ready.\n",
              "      channel.send({})\n",
              "\n",
              "      for await (const message of channel.messages) {\n",
              "        // Send a message to notify the kernel that we're ready.\n",
              "        channel.send({})\n",
              "        if (message.buffers) {\n",
              "          for (const buffer of message.buffers) {\n",
              "            buffers.push(buffer);\n",
              "            downloaded += buffer.byteLength;\n",
              "            progress.value = downloaded;\n",
              "          }\n",
              "        }\n",
              "      }\n",
              "      const blob = new Blob(buffers, {type: 'application/binary'});\n",
              "      const a = document.createElement('a');\n",
              "      a.href = window.URL.createObjectURL(blob);\n",
              "      a.download = filename;\n",
              "      div.appendChild(a);\n",
              "      a.click();\n",
              "      div.remove();\n",
              "    }\n",
              "  "
            ]
          },
          "metadata": {}
        },
        {
          "output_type": "display_data",
          "data": {
            "text/plain": [
              "<IPython.core.display.Javascript object>"
            ],
            "application/javascript": [
              "download(\"download_947664d2-70a2-42a1-bda6-708e3e9dd4d5\", \"tfidf.pkl\", 295632)"
            ]
          },
          "metadata": {}
        }
      ]
    }
  ]
}